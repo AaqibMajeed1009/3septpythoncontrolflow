{
 "cells": [
  {
   "cell_type": "markdown",
   "id": "10c48857",
   "metadata": {},
   "source": [
    "ASSIGNMENT PYTHON CONTROL FLOW\n",
    "\n",
    "Basic If-Else Statements:"
   ]
  },
  {
   "cell_type": "code",
   "execution_count": 49,
   "id": "37d1c2bd",
   "metadata": {},
   "outputs": [
    {
     "name": "stdout",
     "output_type": "stream",
     "text": [
      "Enter a number that you want to check:-10\n",
      "Number is negative\n"
     ]
    }
   ],
   "source": [
    "\"\"\"QUESTION NO 1\"\"\"\n",
    "\"\"\"Write a Python program to check if a given number is positive or negative.\"\"\"\n",
    "x = float(input(\"Enter a number that you want to check:\"))\n",
    "\n",
    "## Check if the number is positive, negative,\n",
    "if x > 0:\n",
    "    print(\"Number is positive\")\n",
    "else:\n",
    "    print(\"Number is negative\")\n"
   ]
  },
  {
   "cell_type": "code",
   "execution_count": 4,
   "id": "e97ada7b",
   "metadata": {},
   "outputs": [
    {
     "name": "stdout",
     "output_type": "stream",
     "text": [
      "Enter the age of person:18\n",
      "Eligible for vote\n"
     ]
    }
   ],
   "source": [
    "\"\"\"QUESTION NO 2\"\"\"\n",
    "\"\"\"Create a program that determines if a person is eligible to vote based on their age.\"\"\"\n",
    "\n",
    "age = float(input(\"Enter the age of person:\"))\n",
    "\n",
    "if age >= 18:\n",
    "    print(\"Person is eligible to vote.\")\n",
    "    \n",
    "else:\n",
    "    print(\"Person is not eligible to vote.\")\n"
   ]
  },
  {
   "cell_type": "code",
   "execution_count": 8,
   "id": "4cfbb5a8",
   "metadata": {},
   "outputs": [
    {
     "name": "stdout",
     "output_type": "stream",
     "text": [
      "Enter the first number:12.5\n",
      "Enter the second number:4\n",
      "The maximum number is: 12.5\n"
     ]
    }
   ],
   "source": [
    "\"\"\"QUESTION NO 3\"\"\"\n",
    "\"\"\"Develop a program to find the maximum of two numbers using if-else statements.\"\"\"\n",
    "#input the first number\n",
    "num1 = float(input(\"Enter the first number:\"))\n",
    "\n",
    "#input the second number\n",
    "num2 = float(input(\"Enter the second number:\"))\n",
    "\n",
    "# Compare the two numbers\n",
    "if num1 > num2:\n",
    "    max_num = num1\n",
    "else:\n",
    "    max_num = num2\n",
    "\n",
    "#Display the maximum number\n",
    "print(\"The maximum number is:\", max_num)\n"
   ]
  },
  {
   "cell_type": "code",
   "execution_count": 14,
   "id": "e7c2bccb",
   "metadata": {},
   "outputs": [
    {
     "name": "stdout",
     "output_type": "stream",
     "text": [
      "Enter a year:2000\n",
      "2000 is a leap year.\n"
     ]
    }
   ],
   "source": [
    "\"\"\"QUESTION NO 4\"\"\"\n",
    "\"\"\"Write a Python script to classify a given year as a leap year or not.\"\"\"\n",
    "#take input from user\n",
    "year = int(input(\"Enter a year:\"))\n",
    "\n",
    "# Check if year is a leap year\n",
    "if (year % 4 == 0 and year % 100 != 0) or (year % 400 == 0): #logic\n",
    "    print(year, \"is a leap year.\")\n",
    "else:\n",
    "    print(year, \"is not a leap year.\")"
   ]
  },
  {
   "cell_type": "code",
   "execution_count": 16,
   "id": "1ea78394",
   "metadata": {},
   "outputs": [
    {
     "name": "stdout",
     "output_type": "stream",
     "text": [
      "Enter a character: a\n",
      "The character is a vowel.\n"
     ]
    }
   ],
   "source": [
    "\"\"\"QUESTION NO 5\"\"\"\n",
    "\"\"\"Create a program that checks whether a character is a vowel or a consonant.\"\"\"\n",
    "\n",
    "#Input a character from the user\n",
    "char = input(\"Enter a character: \")\n",
    "\n",
    "#Convert the character to lowercase to handle both uppercase and lowercase vowels\n",
    "char = char.lower()\n",
    "\n",
    "#Check if the character is a vowel\n",
    "if char in ('a', 'e', 'i', 'o', 'u'):\n",
    "    print(\"The character is a vowel.\")\n",
    "else:\n",
    "    print(\"The character is a consonant.\")"
   ]
  },
  {
   "cell_type": "code",
   "execution_count": 26,
   "id": "e0e0129a",
   "metadata": {},
   "outputs": [
    {
     "name": "stdout",
     "output_type": "stream",
     "text": [
      "Enter the number:23\n",
      "23 is odd.\n"
     ]
    }
   ],
   "source": [
    "\"\"\"QUESTION NO 6\"\"\"\n",
    "\"\"\"Implement a program to determine whether a given number is even or odd.\"\"\"\n",
    "\n",
    "# Input a number from the user\n",
    "Number = int(input(\"Enter the number:\"))\n",
    "\n",
    "#Check if the number is even or odd\n",
    "if (num1%2==0):\n",
    "    print(Number, \"is even.\")\n",
    "else:\n",
    "    print(Number, \"is odd.\")"
   ]
  },
  {
   "cell_type": "code",
   "execution_count": 33,
   "id": "4ce5cc56",
   "metadata": {},
   "outputs": [
    {
     "name": "stdout",
     "output_type": "stream",
     "text": [
      "The absolute value is: 5\n"
     ]
    }
   ],
   "source": [
    "\"\"\"QUESTION NO 7\"\"\"\n",
    "\"\"\"Write a Python function to calculate the absolute value of a number without using the `abs()` function.\"\"\"\n",
    "\n",
    "def calculate_absolute_value(number):\n",
    "    if number < 0:\n",
    "        return -number\n",
    "    else:\n",
    "        return number\n",
    "\n",
    "# Test the function\n",
    "result = calculate_absolute_value(-5)\n",
    "print(\"The absolute value is:\", result)"
   ]
  },
  {
   "cell_type": "code",
   "execution_count": 38,
   "id": "ac64abae",
   "metadata": {},
   "outputs": [
    {
     "name": "stdout",
     "output_type": "stream",
     "text": [
      "Enter the first number:34\n",
      "Enter the second number:78\n",
      "Enter the third number:23\n",
      "The largest number among 34.0 , 78.0 , and 23.0 is: 78.0\n"
     ]
    }
   ],
   "source": [
    "\"\"\"QUESTION NO 8\"\"\"\n",
    "\"\"\"Develop a program that determines the largest of three given numbers using if-else statements.\"\"\"\n",
    "\n",
    "numb1 = float(input(\"Enter the first number:\"))\n",
    "numb2 = float(input(\"Enter the second number:\"))\n",
    "numb3 = float(input(\"Enter the third number:\"))\n",
    "\n",
    "# Compare the numbers to find the largest\n",
    "if numb1 >= numb2 and numb1 >= numb3:\n",
    "    largest = numb1\n",
    "elif numb2 >= numb1 and numb2 >= numb3:\n",
    "    largest = numb2\n",
    "else:\n",
    "    largest = numb3\n",
    "\n",
    "# Display the largest number\n",
    "print(\"The largest number among\", numb1, \",\", numb2, \", and\", numb3, \"is:\", largest)"
   ]
  },
  {
   "cell_type": "code",
   "execution_count": 42,
   "id": "35375a6d",
   "metadata": {},
   "outputs": [
    {
     "name": "stdout",
     "output_type": "stream",
     "text": [
      "Enter a string: saas\n",
      "The string is a palindrome.\n"
     ]
    }
   ],
   "source": [
    "\"\"\"QUESTION NO 9\"\"\"\n",
    "\"\"\"Create a program that checks if a given string is a palindrome.\"\"\"\n",
    "\n",
    "def is_palindrome(input_str):\n",
    "    # Remove spaces and convert to lowercase for a case-insensitive check\n",
    "    input_str = input_str.replace(\" \", \"\").lower()\n",
    "    \n",
    "    # Reverse the string\n",
    "    reversed_string = input_str[::-1]\n",
    "    \n",
    "    # Check if the original and reversed strings are the same\n",
    "    return input_str == reversed_string\n",
    "\n",
    "#Input a string from the user\n",
    "user_input = input(\"Enter a string: \")\n",
    "\n",
    "#Check if it's a palindrome and display the result\n",
    "if is_palindrome(user_input):\n",
    "    print(\"The string is a palindrome.\")\n",
    "else:\n",
    "    print(\"The string is not a palindrome.\")\n"
   ]
  },
  {
   "cell_type": "code",
   "execution_count": 47,
   "id": "1c4b85c1",
   "metadata": {},
   "outputs": [
    {
     "name": "stdout",
     "output_type": "stream",
     "text": [
      "Enter the student's score: 110\n",
      "The student's grade is: F\n"
     ]
    }
   ],
   "source": [
    "\"\"\"QUESTION NO 10\"\"\"\n",
    "\"\"\"Write a Python program to calculate the grade based on a student's score.\"\"\"\n",
    "\n",
    "# Input the student's score\n",
    "score = float(input(\"Enter the student's score: \"))\n",
    "\n",
    "# Define grade ranges and corresponding grade letters\n",
    "grade_ranges = {\n",
    "    (90, 100): 'A',\n",
    "    (80, 89.99): 'B',\n",
    "    (70, 79.99): 'C',\n",
    "    (60, 69.99): 'D',\n",
    "    (0, 59.99): 'F'\n",
    "}\n",
    "\n",
    "# Initialize the grade to 'F' as a default\n",
    "grade = 'F'\n",
    "\n",
    "# Determine the grade based on the score\n",
    "for range_start, range_end in grade_ranges.keys():\n",
    "    if range_start <= score <= range_end:\n",
    "        grade = grade_ranges[(range_start, range_end)]\n",
    "        break  # Exit the loop once the grade is determined\n",
    "\n",
    "# Display the calculated grade\n",
    "print(\"The student's grade is:\", grade)\n"
   ]
  },
  {
   "cell_type": "markdown",
   "id": "f6841f06",
   "metadata": {},
   "source": [
    "Nested If-Else Statements:"
   ]
  },
  {
   "cell_type": "code",
   "execution_count": 50,
   "id": "6ef67ef4",
   "metadata": {},
   "outputs": [
    {
     "name": "stdout",
     "output_type": "stream",
     "text": [
      "Enter the first number: 10\n",
      "Enter the second number: 2\n",
      "Enter the third number: 5\n",
      "The largest number among 10.0 , 2.0 , and 5.0 is: 10.0\n"
     ]
    }
   ],
   "source": [
    "\"\"\"QUESTION NO 11\"\"\"\n",
    "\"\"\"Write a program to find the largest among three numbers using nested if-else statements.\"\"\"\n",
    "\n",
    "# Input three numbers from the user\n",
    "num1 = float(input(\"Enter the first number: \"))\n",
    "num2 = float(input(\"Enter the second number: \"))\n",
    "num3 = float(input(\"Enter the third number: \"))\n",
    "\n",
    "# Use nested if-else statements to determine the largest number\n",
    "if num1 >= num2:\n",
    "    if num1 >= num3:\n",
    "        largest = num1\n",
    "    else:\n",
    "        largest = num3\n",
    "else:\n",
    "    if num2 >= num3:\n",
    "        largest = num2\n",
    "    else:\n",
    "        largest = num3\n",
    "\n",
    "# Display the largest number\n",
    "print(\"The largest number among\", num1, \",\", num2, \", and\", num3, \"is:\", largest)\n"
   ]
  },
  {
   "cell_type": "code",
   "execution_count": 1,
   "id": "d5c872ee",
   "metadata": {},
   "outputs": [
    {
     "name": "stdout",
     "output_type": "stream",
     "text": [
      "Enter the length of side a: 5\n",
      "Enter the length of side b: 5\n",
      "Enter the length of side c: 5\n",
      "The triangle is equilateral.\n"
     ]
    }
   ],
   "source": [
    "\"\"\"QUESTION NO 12\"\"\"\n",
    "\"\"\"Implement a program to determine if a triangle is equilateral, isosceles, or scalene.\"\"\"\n",
    "\n",
    "# Input the lengths of the three sides of the triangle\n",
    "a = float(input(\"Enter the length of side a: \"))\n",
    "b = float(input(\"Enter the length of side b: \"))\n",
    "c = float(input(\"Enter the length of side c: \"))\n",
    "\n",
    "# Check if the triangle is valid\n",
    "if a + b > c and a + c > b and b + c > a:\n",
    "    # Check if the triangle is equilateral\n",
    "    if a == b == c:\n",
    "        print(\"The triangle is equilateral.\")\n",
    "    # Check if the triangle is isosceles\n",
    "    elif a == b or a == c or b == c:\n",
    "        print(\"The triangle is isosceles.\")\n",
    "    # If not equilateral or isosceles, it must be scalene\n",
    "    else:\n",
    "        print(\"The triangle is scalene.\")\n",
    "else:\n",
    "    print(\"The input sides do not form a valid triangle.\")\n"
   ]
  },
  {
   "cell_type": "code",
   "execution_count": 3,
   "id": "9ac8f229",
   "metadata": {},
   "outputs": [
    {
     "name": "stdout",
     "output_type": "stream",
     "text": [
      "Enter a year: 2000\n",
      "2000 is a leap year.\n",
      "2000 is a century year.\n"
     ]
    }
   ],
   "source": [
    "\"\"\"QUESTION NO 13\"\"\"\n",
    "\"\"\"Develop a program that checks if a year is a leap year and also if it is a century year.\"\"\"\n",
    "\n",
    "# Input a year from the user\n",
    "year = int(input(\"Enter a year: \"))\n",
    "\n",
    "# Check if it's a leap year\n",
    "is_leap_year = False\n",
    "\n",
    "if year % 4 == 0:\n",
    "    if year % 100 == 0:\n",
    "        if year % 400 == 0:\n",
    "            is_leap_year = True\n",
    "        else:\n",
    "            is_leap_year = False\n",
    "    else:\n",
    "        is_leap_year = True\n",
    "\n",
    "# Check if it's a century year\n",
    "is_century_year = year % 100 == 0\n",
    "\n",
    "# Display the results\n",
    "if is_leap_year:\n",
    "    print(year, \"is a leap year.\")\n",
    "else:\n",
    "    print(year, \"is not a leap year.\")\n",
    "\n",
    "if is_century_year:\n",
    "    print(year, \"is a century year.\")\n",
    "else:\n",
    "    print(year, \"is not a century year.\")\n"
   ]
  },
  {
   "cell_type": "code",
   "execution_count": 4,
   "id": "236df619",
   "metadata": {},
   "outputs": [
    {
     "name": "stdout",
     "output_type": "stream",
     "text": [
      "Enter a number: 10\n",
      "The number is positive.\n"
     ]
    }
   ],
   "source": [
    "\"\"\"QUESTION NO 14\"\"\"\n",
    "\"\"\"Write a Python script to determine if a number is positive, negative, or zero.\"\"\"\n",
    "\n",
    "# Input a number from the user\n",
    "number = float(input(\"Enter a number: \"))\n",
    "\n",
    "# Check if the number is positive, negative, or zero using nested if-else statements\n",
    "if number > 0:\n",
    "    print(\"The number is positive.\")\n",
    "elif number < 0:\n",
    "    print(\"The number is negative.\")\n",
    "else:\n",
    "    print(\"The number is zero.\")\n"
   ]
  },
  {
   "cell_type": "code",
   "execution_count": 7,
   "id": "4c3b5c0a",
   "metadata": {},
   "outputs": [
    {
     "name": "stdout",
     "output_type": "stream",
     "text": [
      "Enter the person's age: 13\n",
      "The person is a teenager.\n"
     ]
    }
   ],
   "source": [
    "\"\"\"QUESTION NO 14\"\"\"\n",
    "\"\"\"Create a program to check if a person is a teenager (between 13 and 19 years old).\"\"\"\n",
    "\n",
    "\n",
    "#Input the person's age\n",
    "age = int(input(\"Enter the person's age: \"))\n",
    "\n",
    "#Check if the age is within the teenage range (between 13 and 19)\n",
    "if 13 <= age <= 19:\n",
    "    print(\"The person is a teenager.\")\n",
    "else:\n",
    "    print(\"The person is not a teenager.\")"
   ]
  },
  {
   "cell_type": "code",
   "execution_count": 10,
   "id": "001ff97d",
   "metadata": {},
   "outputs": [
    {
     "name": "stdout",
     "output_type": "stream",
     "text": [
      "Enter the measure of the angle in degrees: 130\n",
      "The angle is obtuse.\n"
     ]
    }
   ],
   "source": [
    "\"\"\"QUESTION NO 16\"\"\"\n",
    "\"\"\"Develop a program that determines the type of angle based on its measure (acute, obtuse, or right).\"\"\"\n",
    "#Input the measure of the angle\n",
    "angle = float(input(\"Enter the measure of the angle in degrees: \"))\n",
    "\n",
    "#Check the type of angle based on its measure\n",
    "if angle < 90:\n",
    "    print(\"The angle is acute.\")\n",
    "elif angle == 90:\n",
    "    print(\"The angle is a right angle.\")\n",
    "else:\n",
    "    print(\"The angle is obtuse.\")\n"
   ]
  },
  {
   "cell_type": "code",
   "execution_count": 11,
   "id": "3e357699",
   "metadata": {},
   "outputs": [
    {
     "name": "stdout",
     "output_type": "stream",
     "text": [
      "Enter coefficient a: 3\n",
      "Enter coefficient b: 4\n",
      "Enter coefficient c: 6\n",
      "Complex Root 1: -0.6666666666666666 + 1.247219128924647 i\n",
      "Complex Root 2: -0.6666666666666666 - 1.247219128924647 i\n"
     ]
    }
   ],
   "source": [
    "\"\"\"QUESTION NO 17\"\"\"\n",
    "\"\"\"Write a Python program to calculate the roots of a quadratic equation.\"\"\"\n",
    "\n",
    "# Input coefficients a, b, and c of the quadratic equation ax^2 + bx + c = 0\n",
    "a = float(input(\"Enter coefficient a: \"))\n",
    "b = float(input(\"Enter coefficient b: \"))\n",
    "c = float(input(\"Enter coefficient c: \"))\n",
    "\n",
    "# Calculate the discriminant\n",
    "discriminant = b**2 - 4*a*c\n",
    "\n",
    "# Check the value of the discriminant\n",
    "if discriminant > 0:\n",
    "    # Two distinct real roots\n",
    "    root1 = (-b + (discriminant**0.5)) / (2*a)\n",
    "    root2 = (-b - (discriminant**0.5)) / (2*a)\n",
    "    print(\"Root 1:\", root1)\n",
    "    print(\"Root 2:\", root2)\n",
    "elif discriminant == 0:\n",
    "    # One real root (a repeated root)\n",
    "    root = -b / (2*a)\n",
    "    print(\"The root is:\", root)\n",
    "else:\n",
    "    # Complex roots\n",
    "    real_part = -b / (2*a)\n",
    "    imaginary_part = ((-discriminant)**0.5) / (2*a)\n",
    "    print(\"Complex Root 1:\", real_part, \"+\", imaginary_part, \"i\")\n",
    "    print(\"Complex Root 2:\", real_part, \"-\", imaginary_part, \"i\")\n"
   ]
  },
  {
   "cell_type": "code",
   "execution_count": 13,
   "id": "62286bc4",
   "metadata": {},
   "outputs": [
    {
     "name": "stdout",
     "output_type": "stream",
     "text": [
      "Enter a number (1 for Monday, 2 for Tuesday, 3 for Wednesday etc.): 6\n",
      "The day of the week is: Saturday\n"
     ]
    }
   ],
   "source": [
    "\"\"\"QUESTION NO 18\"\"\"\n",
    "\"\"\"Implement a program to determine the day of the week based on a user-provided number (1 for Monday, 2\n",
    "for Tuesday, etc.).\"\"\"\n",
    "\n",
    "#Input a number representing the day of the week\n",
    "day_numb = int(input(\"Enter a number (1 for Monday, 2 for Tuesday, 3 for Wednesday etc.): \"))\n",
    "\n",
    "#Determine the day of the week based on the number\n",
    "if day_numb == 1:\n",
    "    day = \"Monday\"\n",
    "elif day_numb == 2:\n",
    "    day = \"Tuesday\"\n",
    "elif day_numb == 3:\n",
    "    day = \"Wednesday\"\n",
    "elif day_numb == 4:\n",
    "    day = \"Thursday\"\n",
    "elif day_numb == 5:\n",
    "    day = \"Friday\"\n",
    "elif day_numb == 6:\n",
    "    day = \"Saturday\"\n",
    "elif day_numb == 7:\n",
    "    day = \"Sunday\"\n",
    "else:\n",
    "    day = \"Invalid input\"\n",
    "\n",
    "# Display the day of the week\n",
    "print(\"The day of the week is:\", day)\n"
   ]
  },
  {
   "cell_type": "code",
   "execution_count": 15,
   "id": "a0e64ae5",
   "metadata": {},
   "outputs": [
    {
     "name": "stdout",
     "output_type": "stream",
     "text": [
      "Enter a year that you want to check: 2000\n",
      "2000 is a leap year and is evenly divisible by 400.\n"
     ]
    }
   ],
   "source": [
    "\"\"\"QUESTION NO 19\"\"\"\n",
    "\"\"\"Create a program that determines if a year is a leap year and also if it is evenly divisible by 400.\"\"\"\n",
    "\n",
    "# Input a year from the user\n",
    "year = int(input(\"Enter a year that you want to check: \"))\n",
    "\n",
    "#Check if it's a leap year\n",
    "is_leap_year = False\n",
    "\n",
    "#Check if the year is evenly divisible by 4\n",
    "if year % 4 == 0:\n",
    "    #Check if the year is evenly divisible by 100\n",
    "    if year % 100 == 0:\n",
    "        #Check if the year is evenly divisible by 400\n",
    "        if year % 400 == 0:\n",
    "            is_leap_year = True\n",
    "    else:\n",
    "        is_leap_year = True\n",
    "\n",
    "# Display the result\n",
    "if is_leap_year:\n",
    "    print(year, \"is a leap year and is evenly divisible by 400.\")\n",
    "else:\n",
    "    print(year, \"is not a leap year or is not evenly divisible by 400.\")\n"
   ]
  },
  {
   "cell_type": "code",
   "execution_count": 17,
   "id": "771bf23d",
   "metadata": {},
   "outputs": [
    {
     "name": "stdout",
     "output_type": "stream",
     "text": [
      "Enter a number: 5\n",
      "5 is a prime number.\n"
     ]
    }
   ],
   "source": [
    "\"\"\"QUESTION NO 20\"\"\"\n",
    "\"\"\"Develop a program that checks if a given number is prime or not using nested if-else statements.\"\"\"\n",
    "\n",
    "# Take input from the user\n",
    "num = int(input(\"Enter a number: \"))\n",
    "\n",
    "# Check if the number is greater than 1\n",
    "if num > 1:\n",
    "    # Assume the number is prime\n",
    "    is_prime = True  \n",
    "    \n",
    "    # Check for factors from 2 to (num-1)\n",
    "    for i in range(2, num):\n",
    "        if num % i == 0:\n",
    "            is_prime = False\n",
    "            break  # If a factor is found, the number is not prime\n",
    "else:\n",
    "    is_prime = False  # Numbers less than or equal to 1 are not prime\n",
    "\n",
    "# Display the result\n",
    "if is_prime:\n",
    "    print(num, \"is a prime number.\")\n",
    "else:\n",
    "    print(num, \"is not a prime number.\")\n",
    "\n",
    "\n"
   ]
  },
  {
   "cell_type": "markdown",
   "id": "3cb6264a",
   "metadata": {},
   "source": [
    "Elif Statements:"
   ]
  },
  {
   "cell_type": "code",
   "execution_count": 18,
   "id": "ebbe4aa9",
   "metadata": {},
   "outputs": [
    {
     "name": "stdout",
     "output_type": "stream",
     "text": [
      "Enter the student's score: 100\n",
      "The student's grade is: A\n"
     ]
    }
   ],
   "source": [
    "\"\"\"QUESTION NO 21\"\"\"\n",
    "\"\"\"Write a Python program to assign grades based on different ranges of scores using elif statements.\"\"\"\n",
    "\n",
    "# Input the student's score\n",
    "score = float(input(\"Enter the student's score: \"))\n",
    "\n",
    "# Determine the grade based on the score using elif statements\n",
    "if score >= 90:\n",
    "    grade = 'A'\n",
    "elif score >= 80:\n",
    "    grade = 'B'\n",
    "elif score >= 70:\n",
    "    grade = 'C'\n",
    "elif score >= 60:\n",
    "    grade = 'D'\n",
    "else:\n",
    "    grade = 'F'\n",
    "\n",
    "# Display the calculated grade\n",
    "print(\"The student's grade is:\", grade)\n"
   ]
  },
  {
   "cell_type": "code",
   "execution_count": 1,
   "id": "56a261c6",
   "metadata": {},
   "outputs": [
    {
     "name": "stdout",
     "output_type": "stream",
     "text": [
      "Enter the first angle (in degrees): 60\n",
      "Enter the second angle (in degrees): 90\n",
      "Enter the third angle (in degrees): 30\n",
      "The triangle is: Right Triangle\n"
     ]
    }
   ],
   "source": [
    "\"\"\"QUESTION NO 22\"\"\"\n",
    "\"\"\" Implement a program to determine the type of a triangle based on its angles.\"\"\"\n",
    "\n",
    "# take input from the user of three angles of the triangle\n",
    "angle1 = float(input(\"Enter the first angle (in degrees): \"))\n",
    "angle2 = float(input(\"Enter the second angle (in degrees): \"))\n",
    "angle3 = float(input(\"Enter the third angle (in degrees): \"))\n",
    "\n",
    "# Check the type of triangle based on its angles using elif statements\n",
    "if angle1 + angle2 + angle3 == 180:\n",
    "    if angle1 < 90 and angle2 < 90 and angle3 < 90:\n",
    "        triangle_type = \"Acute Triangle\"\n",
    "    elif angle1 == 90 or angle2 == 90 or angle3 == 90:\n",
    "        triangle_type = \"Right Triangle\"\n",
    "    elif angle1 > 90 or angle2 > 90 or angle3 > 90:\n",
    "        triangle_type = \"Obtuse Triangle\"\n",
    "    else:\n",
    "        triangle_type = \"Invalid Input (angles must be positive and sum to 180)\"\n",
    "else:\n",
    "    triangle_type = \"Not a Triangle (angles do not sum to 180)\"\n",
    "\n",
    "# Display the type of triangle\n",
    "print(\"The triangle is:\", triangle_type)\n"
   ]
  },
  {
   "cell_type": "code",
   "execution_count": 4,
   "id": "9ec15898",
   "metadata": {},
   "outputs": [
    {
     "name": "stdout",
     "output_type": "stream",
     "text": [
      "Enter your height (in meters): 3\n",
      "Enter your weight (in kilograms): 70\n",
      "Your BMI is 7.78, which is categorized as Underweight.\n"
     ]
    }
   ],
   "source": [
    "\"\"\"QUESTION NO 23\"\"\"\n",
    "\"\"\" Develop a program to categorize a given person's BMI into underweight, normal, overweight, or obese using\n",
    "elif statements.\"\"\"\n",
    "\n",
    "# Input height in meters and weight in kilograms\n",
    "height = float(input(\"Enter your height (in meters): \"))\n",
    "weight = float(input(\"Enter your weight (in kilograms): \"))\n",
    "\n",
    "# Calculate BMI (BMI formula is : weight / (height * height))\n",
    "bmi = weight / (height * height)\n",
    "\n",
    "# now i categorize BMI using elif statements\n",
    "if bmi < 18.5:\n",
    "    category = \"Underweight\"\n",
    "elif 18.5 <= bmi < 24.9:\n",
    "    category = \"Normal\"\n",
    "elif 24.9 <= bmi < 29.9:\n",
    "    category = \"Overweight\"\n",
    "else:\n",
    "    category = \"Obese\"\n",
    "\n",
    "#Display the BMI category using fstring\n",
    "print(f\"Your BMI is {bmi:.2f}, which is categorized as {category}.\")\n"
   ]
  },
  {
   "cell_type": "code",
   "execution_count": 10,
   "id": "77b981ef",
   "metadata": {},
   "outputs": [
    {
     "name": "stdout",
     "output_type": "stream",
     "text": [
      "Enter the number that you want to check:10\n",
      "Number is positive\n"
     ]
    }
   ],
   "source": [
    "\"\"\"QUESTION NO 24\"\"\"\n",
    "\"\"\"Create a program that determines whether a given number is positive, negative, or zero using elif\n",
    "statements.\"\"\"\n",
    "\n",
    "#Take input from user\n",
    "num1 = float(input(\"Enter the number that you want to check:\"))\n",
    "\n",
    "#check if the number is positive,negative,or zero using elif statement\n",
    "if num1 >0:\n",
    "    print(\"Number is positive\")\n",
    "    \n",
    "elif num1 <0:\n",
    "    print(\"Number is negative\")\n",
    "    \n",
    "else:\n",
    "    print(\"Number is zero\")"
   ]
  },
  {
   "cell_type": "code",
   "execution_count": 13,
   "id": "d4bf2de8",
   "metadata": {},
   "outputs": [
    {
     "name": "stdout",
     "output_type": "stream",
     "text": [
      "Enter a character: @\n",
      "The character is special.\n"
     ]
    }
   ],
   "source": [
    "\"\"\"QUESTION NO 25\"\"\"\n",
    "\"\"\"Write a Python script to determine the type of a character (uppercase, lowercase, or special) using elif\n",
    "statements.\"\"\"\n",
    "\n",
    "# Take Input a character from the user\n",
    "char = input(\"Enter a character : \")\n",
    "\n",
    "# Check the type of character using elif statements\n",
    "if char.isupper():\n",
    "    print(\"The character is uppercase.\")\n",
    "    \n",
    "elif char.islower():\n",
    "    print(\"The character is lowercase.\")\n",
    "    \n",
    "else:\n",
    "    print(\"The character is special.\")\n"
   ]
  },
  {
   "cell_type": "code",
   "execution_count": 15,
   "id": "f0fddc3f",
   "metadata": {},
   "outputs": [
    {
     "name": "stdout",
     "output_type": "stream",
     "text": [
      "Enter the purchase amount: $400\n",
      "Discounted price: $280.00\n"
     ]
    }
   ],
   "source": [
    "\"\"\"QUESTION NO 26\"\"\"\n",
    "\"\"\"Implement a program to calculate the discounted price based on different purchase amounts using elif\n",
    "statements.\"\"\"\n",
    "\n",
    "# Input the purchase amount\n",
    "purchase_amount = float(input(\"Enter the purchase amount: $\"))\n",
    "\n",
    "# Calculate discounted price based on different purchase amounts using elif statements\n",
    "if purchase_amount < 50:\n",
    "    discount_percentage = 0\n",
    "elif purchase_amount < 100:\n",
    "    discount_percentage = 10\n",
    "elif purchase_amount < 200:\n",
    "    discount_percentage = 20\n",
    "else:\n",
    "    discount_percentage = 30\n",
    "\n",
    "# Calculate the discounted price\n",
    "discounted_price = purchase_amount - (purchase_amount * discount_percentage / 100)\n",
    "\n",
    "# Display the discounted price\n",
    "print(f\"Discounted price: ${discounted_price:.2f}\")"
   ]
  },
  {
   "cell_type": "code",
   "execution_count": 21,
   "id": "92648ab4",
   "metadata": {},
   "outputs": [
    {
     "name": "stdout",
     "output_type": "stream",
     "text": [
      "Enter electricity consumption (in kWh): 105\n",
      "Electricity Bill: $53.75\n"
     ]
    }
   ],
   "source": [
    "\"\"\"QUESTION NO 27\"\"\"\n",
    "\"\"\"Develop a program to calculate the electricity bill based on different consumption slabs using elif\n",
    "statements.\"\"\"\n",
    "\n",
    "# Input the electricity consumption in kilowatt-hours (kWh)\n",
    "consumption = float(input(\"Enter electricity consumption (in kWh): \"))\n",
    "\n",
    "# Initialize the bill variable\n",
    "total_bill = 0\n",
    "\n",
    "# Calculate the bill based on different consumption slabs using elif statements\n",
    "if consumption<= 100:\n",
    "    total_bill = consumption * 0.50\n",
    "elif consumption <= 300:\n",
    "    total_bill = 100 * 0.50 + (consumption - 100) * 0.75\n",
    "else:\n",
    "    total_bill = 100 * 0.50 + 200 * 0.75 + (consumption - 300) * 1.00\n",
    "\n",
    "# Display the calculated bill\n",
    "print(f\"Electricity Bill: ${total_bill:.2f}\")\n"
   ]
  },
  {
   "cell_type": "code",
   "execution_count": 23,
   "id": "e1ebfe2d",
   "metadata": {},
   "outputs": [
    {
     "name": "stdout",
     "output_type": "stream",
     "text": [
      "Enter the first angle (in degrees): 90\n",
      "Enter the second angle (in degrees): 90\n",
      "Enter the third angle (in degrees): 90\n",
      "Enter the fourth angle (in degrees): 90\n",
      "Enter the length of side 1: 10\n",
      "Enter the length of side 2: 10\n",
      "Enter the length of side 3: 10\n",
      "Enter the length of side 4: 10\n",
      "The quadrilateral is: Square\n"
     ]
    }
   ],
   "source": [
    "\"\"\"QUESTION NO 28\"\"\"\n",
    "\"\"\"Create a program to determine the type of quadrilateral based on its angles and sides using elif\n",
    "statements.\"\"\"\n",
    "\n",
    "#BEFORE GOING THIS PROGRAM YOU HAVE TO UNDERSTAND WHAT IS QUADRILATERAL\n",
    "\n",
    "#  Take the Inputs of angles in degrees\n",
    "angle1 = float(input(\"Enter the first angle (in degrees): \"))\n",
    "angle2 = float(input(\"Enter the second angle (in degrees): \"))\n",
    "angle3 = float(input(\"Enter the third angle (in degrees): \"))\n",
    "angle4 = float(input(\"Enter the fourth angle (in degrees): \"))\n",
    "\n",
    "# Take Input sides\n",
    "side1 = float(input(\"Enter the length of side 1: \"))\n",
    "side2 = float(input(\"Enter the length of side 2: \"))\n",
    "side3 = float(input(\"Enter the length of side 3: \"))\n",
    "side4 = float(input(\"Enter the length of side 4: \"))\n",
    "\n",
    "# Check the type of quadrilateral based on angles and sides using elif statements\n",
    "if angle1 == angle2 == angle3 == angle4 == 90:\n",
    "    if side1 == side2 == side3 == side4:\n",
    "        quadrilateral_type = \"Square\"\n",
    "    else:\n",
    "        quadrilateral_type = \"Rectangle\"\n",
    "elif angle1 == angle3 and angle2 == angle4:\n",
    "    if side1 == side3 and side2 == side4:\n",
    "        quadrilateral_type = \"Rhombus\"\n",
    "    else:\n",
    "        quadrilateral_type = \"Parallelogram\"\n",
    "else:\n",
    "    quadrilateral_type = \"Quadrilateral\"\n",
    "\n",
    "# Display the type of quadrilateral\n",
    "print(\"The quadrilateral is:\", quadrilateral_type)\n"
   ]
  },
  {
   "cell_type": "code",
   "execution_count": 24,
   "id": "40643693",
   "metadata": {},
   "outputs": [
    {
     "name": "stdout",
     "output_type": "stream",
     "text": [
      "Enter the month (1-12): 4\n",
      "The season for month 4 is Spring.\n"
     ]
    }
   ],
   "source": [
    "\"\"\"QUESTION NO 29\"\"\"\n",
    "\"\"\"Write a Python script to determine the season based on a user-provided month using elif statements.\"\"\"\n",
    "\n",
    "# Take the Input for month as an integer (1 for January, 2 for February, 3 for March ,etc.)\n",
    "month = int(input(\"Enter the month (1-12): \"))\n",
    "\n",
    "# Now Determine the season based on the month using elif statements\n",
    "if 3 <= month <= 5:\n",
    "    season = \"Spring\"\n",
    "elif 6 <= month <= 8:\n",
    "    season = \"Summer\"\n",
    "elif 9 <= month <= 11:\n",
    "    season = \"Autumn\"\n",
    "elif month == 12 or month == 1 or month == 2:\n",
    "    season = \"Winter\"\n",
    "else:\n",
    "    season = \"Invalid Month\"\n",
    "\n",
    "# Display the determined season that\n",
    "print(f\"The season for month {month} is {season}.\")\n"
   ]
  },
  {
   "cell_type": "code",
   "execution_count": 25,
   "id": "7207fba1",
   "metadata": {},
   "outputs": [
    {
     "name": "stdout",
     "output_type": "stream",
     "text": [
      "Enter a year: 2000\n",
      "Enter a month (1-12): 4\n",
      "The year 2000 is a Leap Year.\n",
      "The month 4 has 30 days.\n"
     ]
    }
   ],
   "source": [
    "\"\"\"QUESTION NO 30\"\"\"\n",
    "\"\"\"Implement a program to determine the type of a year (leap or common) and month (30 or 31 days) using\n",
    "elif statements.\"\"\"\n",
    "\n",
    "# Take Input from user (year)\n",
    "year = int(input(\"Enter a year: \"))\n",
    "\n",
    "# Input a month as an integer (1-12)\n",
    "month = int(input(\"Enter a month (1-12): \"))\n",
    "\n",
    "# Determine if the year is leap or common using elif statements\n",
    "if (year % 4 == 0 and year % 100 != 0) or (year % 400 == 0):\n",
    "    year_type = \"Leap Year\"\n",
    "else:\n",
    "    year_type = \"Common Year\"\n",
    "\n",
    "# Determine the number of days in the month using elif statements\n",
    "if month == 2:\n",
    "    if year_type == \"Leap Year\":\n",
    "        days_in_month = 29\n",
    "    else:\n",
    "        days_in_month = 28\n",
    "elif month in (4, 6, 9, 11):\n",
    "    days_in_month = 30\n",
    "else:\n",
    "    days_in_month = 31\n",
    "\n",
    "# Display the determined year type and days in the month\n",
    "print(f\"The year {year} is a {year_type}.\")\n",
    "print(f\"The month {month} has {days_in_month} days.\")\n"
   ]
  },
  {
   "cell_type": "markdown",
   "id": "502cb853",
   "metadata": {},
   "source": [
    "BASIC QUESTIONS"
   ]
  },
  {
   "cell_type": "code",
   "execution_count": 30,
   "id": "7b89add6",
   "metadata": {},
   "outputs": [
    {
     "name": "stdout",
     "output_type": "stream",
     "text": [
      "Enter a number: 134\n",
      "Number is Positive \n"
     ]
    }
   ],
   "source": [
    "\"\"\"QUESTION NO 1\"\"\"\n",
    "\"\"\"Write a Python program that checks if a given number is positive, negative, or zero.\"\"\"\n",
    "#Take input from user\n",
    "num = float(input(\"Enter a number: \"))\n",
    "\n",
    "#check given number is positive,negative,zero\n",
    "if num > 0:\n",
    "    print(\"Number is Positive \")\n",
    "    \n",
    "elif num < 0:\n",
    "    print(\"Number is Negative \")\n",
    "    \n",
    "else:\n",
    "    print(\"Number is zero\")"
   ]
  },
  {
   "cell_type": "code",
   "execution_count": 34,
   "id": "3a33b818",
   "metadata": {},
   "outputs": [
    {
     "name": "stdout",
     "output_type": "stream",
     "text": [
      "Enter the age of person :10\n",
      "The person is Not Eligible to vote\n"
     ]
    }
   ],
   "source": [
    "\"\"\"QUESTION NO 2\"\"\"\n",
    "\"\"\"Create a program to determine if a person is eligible to vote based on their age.\"\"\"\n",
    "\n",
    "age = int(input(\"Enter the age of person :\"))\n",
    "\n",
    "if age >= 18:\n",
    "    print(\"The person is Eligible to vote\")\n",
    "    \n",
    "else:\n",
    "    print(\"The person is Not Eligible to vote\")"
   ]
  },
  {
   "cell_type": "code",
   "execution_count": 37,
   "id": "11510806",
   "metadata": {},
   "outputs": [
    {
     "name": "stdout",
     "output_type": "stream",
     "text": [
      "Enter The First Number:12\n",
      "Enter The Second Number:56\n",
      "The maximum of 12 and 56 is : 56.\n"
     ]
    }
   ],
   "source": [
    "\"\"\"QUESTION NO 3\"\"\"\n",
    "\"\"\"Write a program to find the maximum of two given numbers using conditional statements.\"\"\"\n",
    "\n",
    "#Take the input from users\n",
    "num1 = int(input(\"Enter The First Number:\"))\n",
    "num2 = int(input(\"Enter The Second Number:\"))\n",
    "\n",
    "# Find the maximum of the two numbers using conditional statements\n",
    "if num1 > num2:\n",
    "    maximum = num1\n",
    "else:\n",
    "    maximum = num2\n",
    "\n",
    "# Display the maximum number\n",
    "print(f\"The maximum of {num1} and {num2} is : {maximum}.\")"
   ]
  },
  {
   "cell_type": "code",
   "execution_count": 38,
   "id": "aac35922",
   "metadata": {},
   "outputs": [
    {
     "name": "stdout",
     "output_type": "stream",
     "text": [
      "Enter the student's score: 70\n",
      "The student's grade is: C\n"
     ]
    }
   ],
   "source": [
    "\"\"\"QUESTION NO 4\"\"\"\n",
    "\"\"\"Develop a program that calculates the grade of a student based on their exam score.\"\"\"\n",
    "\n",
    "# Input the student's score\n",
    "score = float(input(\"Enter the student's score: \"))\n",
    "\n",
    "# Determine the grade based on the score using elif statements\n",
    "if score >= 90:\n",
    "    grade = 'A'\n",
    "elif score >= 80:\n",
    "    grade = 'B'\n",
    "elif score >= 70:\n",
    "    grade = 'C'\n",
    "elif score >= 60:\n",
    "    grade = 'D'\n",
    "else:\n",
    "    grade = 'F'\n",
    "\n",
    "# Display the calculated grade\n",
    "print(\"The student's grade is:\", grade)"
   ]
  },
  {
   "cell_type": "code",
   "execution_count": 41,
   "id": "2c087d6c",
   "metadata": {},
   "outputs": [
    {
     "name": "stdout",
     "output_type": "stream",
     "text": [
      "Enter a year:2020\n",
      "2020 is a leap year\n"
     ]
    }
   ],
   "source": [
    "\"\"\"QUESTION NO 5\"\"\"\n",
    "\"\"\"Create a program that checks if a year is a leap year or not.\"\"\"\n",
    "\n",
    "year = int(input(\"Enter a year:\"))\n",
    "\n",
    "\n",
    "# Check if year is a leap year\n",
    "if (year % 4 == 0 and year % 100 != 0) or (year % 400 == 0):#logic\n",
    "    print(year , \"is a leap year\")\n",
    "    \n",
    "else:\n",
    "    print(year , \"is not a leap year\")"
   ]
  },
  {
   "cell_type": "code",
   "execution_count": 43,
   "id": "41b6e6bf",
   "metadata": {},
   "outputs": [
    {
     "name": "stdout",
     "output_type": "stream",
     "text": [
      "Enter the length of side a: 10\n",
      "Enter the length of side b: 15\n",
      "Enter the length of side c: 15\n",
      "The given triangle is a : Isosceles Triangle.\n"
     ]
    }
   ],
   "source": [
    "\"\"\"QUESTION NO 6\"\"\"\n",
    "\"\"\"Write a program to classify a triangle based on its sides' lengths.\"\"\"\n",
    "\n",
    "# Input side lengths\n",
    "a = float(input(\"Enter the length of side a: \"))\n",
    "b = float(input(\"Enter the length of side b: \"))\n",
    "c = float(input(\"Enter the length of side c: \"))\n",
    "\n",
    "# Check if it's a valid triangle\n",
    "if a + b > c and b + c > a and c + a > b:\n",
    "    # Check for triangle type\n",
    "    if a == b == c:\n",
    "        triangle_type = \"Equilateral Triangle\"\n",
    "    elif a == b or b == c or a == c:\n",
    "        triangle_type = \"Isosceles Triangle\"\n",
    "    else:\n",
    "        triangle_type = \"Scalene Triangle\"\n",
    "\n",
    "    # Output the result\n",
    "    print(f\"The given triangle is a : {triangle_type}.\")\n",
    "else:\n",
    "    print(\"These side lengths cannot form a triangle.\")\n"
   ]
  },
  {
   "cell_type": "code",
   "execution_count": 47,
   "id": "a25385c1",
   "metadata": {},
   "outputs": [
    {
     "name": "stdout",
     "output_type": "stream",
     "text": [
      "Enter the First number: 56\n",
      "Enter the Second number: 89\n",
      "Enter the Third number: 65\n",
      "The largest number among 56.0 , 89.0 , and 65.0 is : 89.0\n"
     ]
    }
   ],
   "source": [
    "\"\"\"QUESTION NO 7\"\"\"\n",
    "\"\"\"Build a program that determines the largest of three given numbers.\"\"\"\n",
    "\n",
    "numb1 = float(input(\"Enter the First number: \"))\n",
    "numb2 = float(input(\"Enter the Second number: \"))\n",
    "numb3 = float(input(\"Enter the Third number: \"))\n",
    "\n",
    "# Compare the numbers to find the largest\n",
    "if numb1 >= numb2 and numb1 >= numb3:\n",
    "    largest = numb1\n",
    "elif numb2 >= numb1 and numb2 >= numb3:\n",
    "    largest = numb2\n",
    "else:\n",
    "    largest = numb3\n",
    "\n",
    "# Display the largest number\n",
    "print(\"The largest number among\", numb1, \",\", numb2, \", and\", numb3, \"is :\", largest)"
   ]
  },
  {
   "cell_type": "code",
   "execution_count": 48,
   "id": "c2949a7f",
   "metadata": {},
   "outputs": [
    {
     "name": "stdout",
     "output_type": "stream",
     "text": [
      "Enter a character: X\n",
      "The character is a consonant.\n"
     ]
    }
   ],
   "source": [
    "\"\"\"QUESTION NO 8\"\"\"\n",
    "\"\"\"Develop a program that checks whether a character is a vowel or a consonant.\"\"\"\n",
    "\n",
    "#Input a character from the user\n",
    "char = input(\"Enter a character: \")\n",
    "\n",
    "#Convert the character to lowercase to handle both uppercase and lowercase vowels\n",
    "char = char.lower()\n",
    "\n",
    "#Check if the character is a vowel\n",
    "if char in ('a', 'e', 'i', 'o', 'u'):\n",
    "    print(\"The character is a vowel.\")\n",
    "else:\n",
    "    print(\"The character is a consonant.\")"
   ]
  },
  {
   "cell_type": "code",
   "execution_count": 49,
   "id": "66039ef2",
   "metadata": {},
   "outputs": [
    {
     "name": "stdout",
     "output_type": "stream",
     "text": [
      "Enter a character: a\n",
      "The character is a vowel.\n"
     ]
    }
   ],
   "source": [
    "\"\"\"QUESTION NO 8\"\"\"\n",
    "\"\"\"Develop a program that checks whether a character is a vowel or a consonant.\"\"\"\n",
    "\n",
    "#Input a character from the user\n",
    "char = input(\"Enter a character: \")\n",
    "\n",
    "#Convert the character to lowercase to handle both uppercase and lowercase vowels\n",
    "char = char.lower()\n",
    "\n",
    "#Check if the character is a vowel\n",
    "if char in ('a', 'e', 'i', 'o', 'u'):\n",
    "    print(\"The character is a vowel.\")\n",
    "else:\n",
    "    print(\"The character is a consonant.\")"
   ]
  },
  {
   "cell_type": "code",
   "execution_count": null,
   "id": "5fe184e5",
   "metadata": {},
   "outputs": [],
   "source": [
    "\"\"\"QUESTION NO 9\"\"\"\n",
    "\"\"\"Create a program to calculate the total cost of a shopping cart based on discounts.\"\"\"\n",
    "\n"
   ]
  },
  {
   "cell_type": "code",
   "execution_count": 60,
   "id": "18339746",
   "metadata": {},
   "outputs": [
    {
     "name": "stdout",
     "output_type": "stream",
     "text": [
      "Enter the Number that you want to check:12\n",
      "The Given Number is Even  12.0\n"
     ]
    }
   ],
   "source": [
    "\"\"\"QUESTION NO 10\"\"\"\n",
    "\"\"\"Write a program that checks if a given number is even or odd.\"\"\"\n",
    "#Take input from user\n",
    "num1 = float(input(\"Enter the Number that you want to check:\"))\n",
    "\n",
    "#check if the given number is evenm or odd\n",
    "if num1%2==0:\n",
    "    print(\"The Given Number is Even \",num1)\n",
    "else:\n",
    "    print(\"The Given Number is Odd\" ,num1)"
   ]
  },
  {
   "cell_type": "markdown",
   "id": "8b339d77",
   "metadata": {},
   "source": [
    "INTERMEDIATE LEVEL:"
   ]
  },
  {
   "cell_type": "code",
   "execution_count": 61,
   "id": "64c86506",
   "metadata": {},
   "outputs": [
    {
     "name": "stdout",
     "output_type": "stream",
     "text": [
      "Enter coefficient a: 2\n",
      "Enter coefficient b: 4\n",
      "Enter coefficient c: 2\n",
      "The root is: -1.0\n"
     ]
    }
   ],
   "source": [
    "\"\"\"QUESTION NO 11\"\"\"\n",
    "\"\"\"Write a program that calculates the roots of a quadratic equation .\"\"\"\n",
    "\n",
    "# Input coefficients a, b, and c of the quadratic equation ax^2 + bx + c = 0\n",
    "a = float(input(\"Enter coefficient a: \"))\n",
    "b = float(input(\"Enter coefficient b: \"))\n",
    "c = float(input(\"Enter coefficient c: \"))\n",
    "\n",
    "# Calculate the discriminant\n",
    "discriminant = b**2 - 4*a*c\n",
    "\n",
    "# Check the value of the discriminant\n",
    "if discriminant > 0:\n",
    "    # Two distinct real roots\n",
    "    root1 = (-b + (discriminant**0.5)) / (2*a)\n",
    "    root2 = (-b - (discriminant**0.5)) / (2*a)\n",
    "    print(\"Root 1:\", root1)\n",
    "    print(\"Root 2:\", root2)\n",
    "elif discriminant == 0:\n",
    "    # One real root (a repeated root)\n",
    "    root = -b / (2*a)\n",
    "    print(\"The root is:\", root)\n",
    "else:\n",
    "    # Complex roots\n",
    "    real_part = -b / (2*a)\n",
    "    imag_part = ((-discriminant)**0.5) / (2*a)\n",
    "    print(\"Complex Root 1:\", real_part, \"+\", imag_part, \"i\")\n",
    "    print(\"Complex Root 2:\", real_part, \"-\", imag_part, \"i\")\n"
   ]
  },
  {
   "cell_type": "code",
   "execution_count": 62,
   "id": "4163c7c5",
   "metadata": {},
   "outputs": [
    {
     "name": "stdout",
     "output_type": "stream",
     "text": [
      "Enter a number (1 for Monday, 2 for Tuesday, 3 for Wednesday ,4  for Thursday etc.): 3\n",
      "The day of the week is: WEDNESDAY\n"
     ]
    }
   ],
   "source": [
    "\"\"\"QUESTION NO 12\"\"\"\n",
    "\"\"\"Create a program that determines the day of the week based on the day number (1-7).\"\"\"\n",
    "\n",
    "#Input a number representing the day of the week\n",
    "day_numb = int(input(\"Enter a number (1 for Monday, 2 for Tuesday, 3 for Wednesday ,4  for Thursday etc.): \"))\n",
    "\n",
    "#Determine the day of the week based on the number\n",
    "if day_numb == 1:\n",
    "    day = \"MONDAY\"\n",
    "elif day_numb == 2:\n",
    "    day = \"TUESDAY\"\n",
    "elif day_numb == 3:\n",
    "    day = \"WEDNESDAY\"\n",
    "elif day_numb == 4:\n",
    "    day = \"THURSDAY\"\n",
    "elif day_numb == 5:\n",
    "    day = \"FRIDAY\"\n",
    "elif day_numb == 6:\n",
    "    day = \"SATURDAY\"\n",
    "elif day_numb == 7:\n",
    "    day = \"SUNDAY\"\n",
    "else:\n",
    "    day = \"INVALID INPUT\"\n",
    "\n",
    "# Display the day of the week\n",
    "print(\"The day of the week is:\", day)"
   ]
  },
  {
   "cell_type": "code",
   "execution_count": 74,
   "id": "d25f9087",
   "metadata": {},
   "outputs": [
    {
     "name": "stdout",
     "output_type": "stream",
     "text": [
      "Enter a non-negative integer number : 5\n",
      "The factorial of 5 is : 120\n"
     ]
    }
   ],
   "source": [
    "\"\"\"QUESTION NO 13\"\"\"\n",
    "\"\"\"Develop a program that calculates the factorial of a given number using recursion.\"\"\"\n",
    "\n",
    "# Function to calculate the factorial of a number using recursion\n",
    "def fact_num(n):\n",
    "    a = 1\n",
    "    for i in range(1,n+1):\n",
    "        a = i*a\n",
    "        \n",
    "    return a\n",
    "\n",
    "#aaaaaaInput a number from the user\n",
    "num = int(input(\"Enter a non-negative integer number : \"))\n",
    "\n",
    "#Check if the input is valid\n",
    "if num < 0:\n",
    "    print(\"Factorial is not defined for negative numbers.\")\n",
    "else:\n",
    "    # Calculate and display the factorial\n",
    "    fact = fact_num(num)\n",
    "    print(f\"The factorial of {num} is : {fact}\")"
   ]
  },
  {
   "cell_type": "code",
   "execution_count": 79,
   "id": "0e7f91a0",
   "metadata": {},
   "outputs": [
    {
     "name": "stdout",
     "output_type": "stream",
     "text": [
      "Enter First Number:45\n",
      "Enter First Number:56\n",
      "Enter Third Number:13\n",
      "The largest number among 45.0, 56.0, and 13.0 is : 56.0\n"
     ]
    }
   ],
   "source": [
    "\"\"\"QUESTION NO 14\"\"\"\n",
    "\"\"\"Write a program to find the largest among three numbers without using the `max()` function.\"\"\"\n",
    "\n",
    "num1 = float(input(\"Enter First Number:\"))\n",
    "num2 = float(input(\"Enter First Number:\"))\n",
    "num3 = float(input(\"Enter Third Number:\"))\n",
    " \n",
    "#compare the ist and 2nd number\n",
    "if num1 > num2:\n",
    "    if num1 > num3:\n",
    "        largest = num1\n",
    "    else:\n",
    "        largest = num3\n",
    "else:\n",
    "    if num2 > num3:\n",
    "        largest = num2\n",
    "    else:\n",
    "        largest = num3\n",
    "\n",
    "# Print the largest number\n",
    "print(f\"The largest number among {num1}, {num2}, and {num3} is : {largest}\")"
   ]
  },
  {
   "cell_type": "code",
   "execution_count": null,
   "id": "97c65a82",
   "metadata": {},
   "outputs": [
    {
     "name": "stdout",
     "output_type": "stream",
     "text": [
      "\n",
      "===== ATM MENU =====\n",
      "1. Check Balance\n",
      "2. Deposit\n",
      "3. Withdraw\n",
      "4. Exit\n",
      "Enter your choice (1/2/3/4): 3\n",
      "Enter the amount to withdraw: $6000\n",
      "$6000.00 has been withdrawn.\n",
      "Now you account balance is $14000.00\n",
      "\n",
      "===== ATM MENU =====\n",
      "1. Check Balance\n",
      "2. Deposit\n",
      "3. Withdraw\n",
      "4. Exit\n"
     ]
    }
   ],
   "source": [
    "\"\"\"QUESTION NO 15\"\"\"\n",
    "\"\"\"Create a program that simulates a basic ATM transaction menu.\"\"\"\n",
    "\n",
    "#ist initilioze account balance\n",
    "balance = 20000\n",
    "\n",
    "#display items used for ATM trasction menu\n",
    "def display_menu():\n",
    "    print(\"\\n===== ATM MENU =====\")\n",
    "    print(\"1. Check Balance\")\n",
    "    print(\"2. Deposit\")\n",
    "    print(\"3. Withdraw\")\n",
    "    print(\"4. Exit\")\n",
    "    \n",
    "    \n",
    "#function to check account balance    \n",
    "def check_balance():\n",
    "    print(f\"Your account balance is ${balance:.2f}\")\n",
    "\n",
    "#function to deposit money    \n",
    "def deposit():\n",
    "    global balance\n",
    "    amount = float(input(\"Enter the amount to deposit: $\"))\n",
    "    if amount > 0:\n",
    "        balance += amount\n",
    "        print(f\"${amount:.2f} has been deposited.\")\n",
    "        print(f\"Now you account balance is ${balance:.2f}\")\n",
    "    else:\n",
    "        print(\"Invalid amount. Please enter a positive number.\")\n",
    "        \n",
    "#function to withdraw money        \n",
    "def withdraw():\n",
    "    global balance\n",
    "    amount = float(input(\"Enter the amount to withdraw: $\"))\n",
    "    if amount > 0 and amount <= balance:\n",
    "        balance -= amount\n",
    "        print(f\"${amount:.2f} has been withdrawn.\")\n",
    "        print(f\"Now you account balance is ${balance:.2f}\")\n",
    "    elif amount <= 0:\n",
    "        print(\"Invalid amount. Please enter a positive number.\")\n",
    "    else:\n",
    "        print(\"Insufficient funds.\")\n",
    "\n",
    "#Main program loop\n",
    "while True:\n",
    "    display_menu()\n",
    "    choice = input(\"Enter your choice (1/2/3/4): \")\n",
    "    \n",
    "    if choice == '1':\n",
    "        check_balance()\n",
    "    elif choice == '2':\n",
    "        deposit()\n",
    "    elif choice == '3':\n",
    "        withdraw()\n",
    "    elif choice == '4':\n",
    "        print(\"Thank you for using the ATM. Goodbye!\")\n",
    "        break\n",
    "    else:\n",
    "        print(\"Invalid choice. Please select a valid option.\")        "
   ]
  },
  {
   "cell_type": "code",
   "execution_count": 1,
   "id": "3a4c3963",
   "metadata": {},
   "outputs": [
    {
     "name": "stdout",
     "output_type": "stream",
     "text": [
      "Enter a string: dad\n",
      "The string is a palindrome.\n"
     ]
    }
   ],
   "source": [
    "\"\"\"QUESTION NO 16\"\"\"\n",
    "\"\"\"Build a program that checks if a given string is a palindrome or not.\"\"\"\n",
    "\n",
    "def is_palindrome(input_str):\n",
    "    # Remove spaces and convert to lowercase for a case-insensitive check\n",
    "    input_str = input_str.replace(\" \", \"\").lower()\n",
    "    \n",
    "    # Reverse the string\n",
    "    reversed_string = input_str[::-1]\n",
    "    \n",
    "    # Check if the original and reversed strings are the same\n",
    "    return input_str == reversed_string\n",
    "\n",
    "#Input a string from the user\n",
    "user_input = input(\"Enter a string: \")\n",
    "\n",
    "#Check if it's a palindrome and display the result\n",
    "if is_palindrome(user_input):\n",
    "    print(\"The string is a palindrome.\")\n",
    "else:\n",
    "    print(\"The string is not a palindrome.\")\n"
   ]
  },
  {
   "cell_type": "code",
   "execution_count": 1,
   "id": "6a009df3",
   "metadata": {},
   "outputs": [
    {
     "name": "stdout",
     "output_type": "stream",
     "text": [
      "Enter a list of numbers separated by spaces: 12 14 15 20 15 30 30 5 5 \n",
      "The average of the numbers (excluding smallest and largest number) is 15.86\n"
     ]
    }
   ],
   "source": [
    "\"\"\"QUESTION NO 17\"\"\"\n",
    "\"\"\"Write a program that calculates the average of a list of numbers, excluding the smallest and largest values.\"\"\"\n",
    "\n",
    "\n",
    "# Input a list of numbers from the user\n",
    "input_numbers = input(\"Enter a list of numbers separated by spaces: \").split()\n",
    "\n",
    "# Convert the input strings to float numbers\n",
    "numbers = [float(num) for num in input_numbers]\n",
    "\n",
    "# Check if there are at least three numbers in the list\n",
    "if len(numbers) < 3:\n",
    "    print(\"At least three numbers are required.\")\n",
    "else:\n",
    "    # Find and remove the smallest and largest values\n",
    "    min_val = min(numbers)\n",
    "    max_val = max(numbers)\n",
    "    numbers.remove(min_val)\n",
    "    numbers.remove(max_val)\n",
    "\n",
    "    # Calculate the average of the remaining values\n",
    "    average = sum(numbers) / len(numbers)\n",
    "\n",
    "    # Display the result\n",
    "    print(f\"The average of the numbers (excluding smallest and largest number) is {average:.2f}\")\n",
    "\n",
    "    "
   ]
  },
  {
   "cell_type": "code",
   "execution_count": 6,
   "id": "33f51699",
   "metadata": {},
   "outputs": [
    {
     "name": "stdout",
     "output_type": "stream",
     "text": [
      "Enter temperature in Celsius: 45\n",
      "45.0 degrees Celsius is equal to 113.0 degrees Fahrenheit\n"
     ]
    }
   ],
   "source": [
    "\"\"\"QUESTION NO 18\"\"\"\n",
    "\"\"\"Develop a program that converts a given temperature from Celsius to Fahrenheit.\"\"\"\n",
    "\n",
    "# Input temperature in Celsius from the user\n",
    "c = float(input(\"Enter temperature in Celsius: \"))\n",
    "\n",
    "# Convert Celsius to Fahrenheit using the formula\n",
    "f = (c * 9/5) + 32\n",
    "\n",
    "# Display the converted temperature in Fahrenheit\n",
    "print(f\"{c} degrees Celsius is equal to {f} degrees Fahrenheit\")"
   ]
  },
  {
   "cell_type": "code",
   "execution_count": null,
   "id": "8be3d7a5",
   "metadata": {},
   "outputs": [],
   "source": [
    "\"\"\"QUESTION NO 19\"\"\"\n",
    "\"\"\"Create a program that simulates a basic calculator for addition, subtraction, multiplication, and division.\"\"\"\n",
    "\n"
   ]
  },
  {
   "cell_type": "code",
   "execution_count": null,
   "id": "ad27701b",
   "metadata": {},
   "outputs": [
    {
     "name": "stdout",
     "output_type": "stream",
     "text": [
      "\n",
      "===== BASIC CALCULATOR DEVELOPED BY AAQIB =====\n",
      "1. Addition\n",
      "2. Subtraction\n",
      "3. Multiplication\n",
      "4. Division\n",
      "5. Quit\n",
      "Enter your choice (1/2/3/4/5): 1\n",
      "Enter the first number: 70\n",
      "Enter the second number: 10\n",
      "The result of 70.0 + 10.0 is 80.0\n",
      "\n",
      "===== BASIC CALCULATOR DEVELOPED BY AAQIB =====\n",
      "1. Addition\n",
      "2. Subtraction\n",
      "3. Multiplication\n",
      "4. Division\n",
      "5. Quit\n"
     ]
    }
   ],
   "source": [
    "\"\"\"QUESTION NO 19\"\"\"\n",
    "\"\"\"Create a program that simulates a basic calculator for addition, subtraction, multiplication, and division.\"\"\"\n",
    "\n",
    "def basic_calculator():\n",
    "    print(\"\\n===== BASIC CALCULATOR DEVELOPED BY AAQIB =====\")\n",
    "    print(\"1. Addition\")\n",
    "    print(\"2. Subtraction\")\n",
    "    print(\"3. Multiplication\")\n",
    "    print(\"4. Division\")\n",
    "    print(\"5. Quit\")\n",
    "    \n",
    "    \n",
    "#Function to perform addition\n",
    "def add(x, y):\n",
    "    return x + y\n",
    "\n",
    "#Function to perform subtraction\n",
    "def subtract(x, y):\n",
    "    return x - y\n",
    "\n",
    "#Function to perform multiplication\n",
    "def multiply(x, y):\n",
    "    return x * y\n",
    "\n",
    "#Function to perform division\n",
    "def divide(x, y):\n",
    "    if y == 0:\n",
    "        return \"Cannot divide by zero\"\n",
    "    return x / y\n",
    "\n",
    "\n",
    "while True:\n",
    "    basic_calculator()\n",
    "    choice = input(\"Enter your choice (1/2/3/4/5): \")\n",
    "    \n",
    "    if choice == '5':\n",
    "        print(\"Thank you for using my calculator. Goodbye!\")\n",
    "        break\n",
    "    \n",
    "    if choice not in ['1', '2', '3', '4']:\n",
    "        print(\"Invalid choice. Please select a valid option.\")\n",
    "        continue\n",
    "    \n",
    "    num1 = float(input(\"Enter the first number: \"))\n",
    "    num2 = float(input(\"Enter the second number: \"))\n",
    "    \n",
    "    if choice == '1':\n",
    "        result = add(num1, num2)\n",
    "        print(f\"The result of {num1} + {num2} is {result}\")\n",
    "    elif choice == '2':\n",
    "        result = subtract(num1, num2)\n",
    "        print(f\"The result of {num1} - {num2} is {result}\")\n",
    "    elif choice == '3':\n",
    "        result = multiply(num1, num2)\n",
    "        print(f\"The result of {num1} * {num2} is {result}\")\n",
    "    elif choice == '4':\n",
    "        result = divide(num1, num2)\n",
    "        print(f\"The result of {num1} / {num2} is {result}\")\n",
    "        \n"
   ]
  },
  {
   "cell_type": "code",
   "execution_count": 1,
   "id": "506e8cda",
   "metadata": {},
   "outputs": [
    {
     "name": "stdout",
     "output_type": "stream",
     "text": [
      "Enter the coefficient a: 10\n",
      "Enter the coefficient b: 34\n",
      "Enter the coefficient c: 2\n",
      "Enter the coefficient d: 3\n",
      "Roots of the cubic equation:\n",
      "(-0.01646859283959068+1.9344664757173913j)\n",
      "(-1.433656406467822-1.1162527100268747j)\n",
      "(-1.949875000692587-0.8182137656905166j)\n"
     ]
    }
   ],
   "source": [
    "\"\"\"QUESTION NO 20\"\"\"\n",
    "\"\"\"Write a program that determines the roots of a cubic equation using the Cardano formula.\"\"\"\n",
    "# i dont understand this question\n",
    "# Function to solve a cubic equation using Cardano's formula\n",
    "def solve_cubic(a, b, c, d):\n",
    "    # Check for the case where 'a' is zero\n",
    "    if a == 0:\n",
    "        return \"Coefficient 'a' cannot be zero.\"\n",
    "\n",
    "    # Calculate intermediate values\n",
    "    p = (3 * a * c - b ** 2) / (3 * a ** 2)\n",
    "    q = (2 * b ** 3 - 9 * a * b * c + 27 * a ** 2 * d) / (27 * a ** 3)\n",
    "    discriminant = (q / 2) ** 2 + (p / 3) ** 3\n",
    "\n",
    "    # Variables for intermediate calculations\n",
    "    sqrt_discriminant = discriminant ** 0.5\n",
    "    u = ((-q / 2) + sqrt_discriminant) ** (1 / 3)\n",
    "    v = ((-q / 2) - sqrt_discriminant) ** (1 / 3)\n",
    "\n",
    "    # Calculate the roots\n",
    "    root1 = u + v - (b / (3 * a))\n",
    "    root2 = -(u + v) / 2 - (b / (3 * a)) + (u - v) * (3 ** 0.5 / 2) * 1j\n",
    "    root3 = -(u + v) / 2 - (b / (3 * a)) - (u - v) * (3 ** 0.5 / 2) * 1j\n",
    "\n",
    "    return [root1, root2, root3]\n",
    "\n",
    "# Input coefficients a, b, c, and d\n",
    "a = float(input(\"Enter the coefficient a: \"))\n",
    "b = float(input(\"Enter the coefficient b: \"))\n",
    "c = float(input(\"Enter the coefficient c: \"))\n",
    "d = float(input(\"Enter the coefficient d: \"))\n",
    "\n",
    "# Call the solve_cubic function\n",
    "roots = solve_cubic(a, b, c, d)\n",
    "\n",
    "# Display the roots\n",
    "print(\"Roots of the cubic equation:\")\n",
    "for root in roots:\n",
    "    print(root)\n"
   ]
  },
  {
   "cell_type": "markdown",
   "id": "4e308433",
   "metadata": {},
   "source": [
    "ADVANCED LEVEL"
   ]
  },
  {
   "cell_type": "code",
   "execution_count": 4,
   "id": "a98ef066",
   "metadata": {},
   "outputs": [
    {
     "name": "stdout",
     "output_type": "stream",
     "text": [
      "Enter your income: 518400\n",
      "Your income tax is: $134440.75\n"
     ]
    }
   ],
   "source": [
    "\"\"\"QUESTION NO 21\"\"\"\n",
    "\"\"\"Create a program that calculates the income tax based on the user's income and tax brackets.\"\"\"\n",
    "\n",
    "# Define tax brackets and their rates\n",
    "tax_brackets = [\n",
    "    (9875, 0.10),\n",
    "    (40125, 0.12),\n",
    "    (85525, 0.22),\n",
    "    (163300, 0.24),\n",
    "    (207350, 0.32),\n",
    "    (518400, 0.35),\n",
    "    (float('inf'), 0.37)\n",
    "]\n",
    "\n",
    "# Function to calculate income tax\n",
    "def cal_income_tax(income):\n",
    "    tax_owed = 0\n",
    "    remaining_income = income\n",
    "\n",
    "    for bracket_limit, tax_rate in tax_brackets:\n",
    "        if income <= 0:\n",
    "            break\n",
    "\n",
    "        if remaining_income <= bracket_limit:\n",
    "            taxable_income_in_bracket = remaining_income\n",
    "        else:\n",
    "            taxable_income_in_bracket = bracket_limit\n",
    "\n",
    "        tax_owed += taxable_income_in_bracket * tax_rate\n",
    "        remaining_income -= taxable_income_in_bracket\n",
    "\n",
    "    return tax_owed\n",
    "\n",
    "# Input user's income\n",
    "income = float(input(\"Enter your income: \"))\n",
    "\n",
    "# Calculate income tax\n",
    "income_tax = cal_income_tax(income)\n",
    "\n",
    "# Display the calculated income tax\n",
    "print(f\"Your income tax is: ${income_tax:.2f}\")\n"
   ]
  },
  {
   "cell_type": "code",
   "execution_count": 1,
   "id": "40169453",
   "metadata": {},
   "outputs": [
    {
     "name": "stdout",
     "output_type": "stream",
     "text": [
      "\n",
      "===== Rock-Paper-Scissors Game Developed By Aaqib =====\n",
      "Choose your move:\n",
      "1. Rock\n",
      "2. Paper\n",
      "3. Scissors\n",
      "4. Quit\n",
      "Enter your choice (1/2/3/4): 2\n",
      "You chose: paper\n",
      "Computer chose: rock\n",
      "Aaqib You win!\n",
      "\n",
      "===== Rock-Paper-Scissors Game Developed By Aaqib =====\n",
      "Choose your move:\n",
      "1. Rock\n",
      "2. Paper\n",
      "3. Scissors\n",
      "4. Quit\n",
      "Enter your choice (1/2/3/4): 3\n",
      "You chose: scissors\n",
      "Computer chose: paper\n",
      "Aaqib You win!\n",
      "\n",
      "===== Rock-Paper-Scissors Game Developed By Aaqib =====\n",
      "Choose your move:\n",
      "1. Rock\n",
      "2. Paper\n",
      "3. Scissors\n",
      "4. Quit\n",
      "Enter your choice (1/2/3/4): 2\n",
      "You chose: paper\n",
      "Computer chose: scissors\n",
      "Computer wins!\n",
      "\n",
      "===== Rock-Paper-Scissors Game Developed By Aaqib =====\n",
      "Choose your move:\n",
      "1. Rock\n",
      "2. Paper\n",
      "3. Scissors\n",
      "4. Quit\n",
      "Enter your choice (1/2/3/4): 4\n",
      "Aaqib Thanks for playing! Goodbye.\n"
     ]
    }
   ],
   "source": [
    "\"\"\"QUESTION NO 22\"\"\"\n",
    "\"\"\"Write a program that simulates a rock-paper-scissors game against the computer.\"\"\"\n",
    "\n",
    "# Function to get the computer's choice in a deterministic sequence\n",
    "def get_computer_choice(computer_choice_index):\n",
    "    choices = [\"rock\", \"paper\", \"scissors\"]\n",
    "    return choices[computer_choice_index]\n",
    "\n",
    "# Function to determine the game result\n",
    "def determine_winner(player_choice, computer_choice):\n",
    "    if player_choice == computer_choice:\n",
    "        return \"It's a tie!\"\n",
    "    elif (\n",
    "        (player_choice == \"rock\" and computer_choice == \"scissors\")\n",
    "        or (player_choice == \"paper\" and computer_choice == \"rock\")\n",
    "        or (player_choice == \"scissors\" and computer_choice == \"paper\")\n",
    "    ):\n",
    "        return \"Aaqib You win!\"\n",
    "    else:\n",
    "        return \"Computer wins!\"\n",
    "\n",
    "# Main game loop\n",
    "computer_choice_index = 0  # Start with the first choice (rock)\n",
    "\n",
    "while True:\n",
    "    print(\"\\n===== Rock-Paper-Scissors Game Developed By Aaqib =====\")\n",
    "    print(\"Choose your move:\")\n",
    "    print(\"1. Rock\")\n",
    "    print(\"2. Paper\")\n",
    "    print(\"3. Scissors\")\n",
    "    print(\"4. Quit\")\n",
    "\n",
    "    # Get player's choice\n",
    "    choice = input(\"Enter your choice (1/2/3/4): \")\n",
    "\n",
    "    if choice == '4':\n",
    "        print(\"Aaqib Thanks for playing! Goodbye.\")\n",
    "        break\n",
    "\n",
    "    if choice not in ['1', '2', '3']:\n",
    "        print(\"Invalid choice. Aaqib Please choose a valid option.\")\n",
    "        continue\n",
    "\n",
    "    player_choices = [\"rock\", \"paper\", \"scissors\"]\n",
    "    player_choice = player_choices[int(choice) - 1]\n",
    "\n",
    "    # Get the computer's choice in a deterministic sequence\n",
    "    computer_choice = get_computer_choice(computer_choice_index)\n",
    "\n",
    "    # Increment the computer's choice index for the next round\n",
    "    computer_choice_index = (computer_choice_index + 1) % 3\n",
    "\n",
    "    # Determine the winner and display the result\n",
    "    print(f\"You chose: {player_choice}\")\n",
    "    print(f\"Computer chose: {computer_choice}\")\n",
    "    result = determine_winner(player_choice, computer_choice)\n",
    "    print(result)\n"
   ]
  },
  {
   "cell_type": "code",
   "execution_count": 8,
   "id": "ca1e52e8",
   "metadata": {},
   "outputs": [
    {
     "name": "stdout",
     "output_type": "stream",
     "text": [
      "Enter the desired password length: 10\n",
      "Include uppercase letters? (Y/N): y\n",
      "Include digits? (Y/N): y\n",
      "Include special characters? (Y/N): y\n",
      "Random Generated Password: !CLFWZ$(P=\n"
     ]
    }
   ],
   "source": [
    "\"\"\"QUESTION NO 23\"\"\"\n",
    "\"\"\"Develop a program that generates a random password based on user preferences (length, complexity).\"\"\"\n",
    "\n",
    "import time\n",
    "\n",
    "# Function to generate a random password \n",
    "def generate_password(length, include_uppercase, include_digts, include_specl_chars):\n",
    "    if length <= 0:\n",
    "        return \"Password length must be greater than zero.\"\n",
    "\n",
    "    chars = \"abcdefghijklmnopqrstuvwxyz\"\n",
    "    if include_uppercase:\n",
    "        chars += \"ABCDEFGHIJKLMNOPQRSTUVWXYZ\"\n",
    "    if include_digts:\n",
    "        chars += \"0123456789\"\n",
    "    if include_specl_chars:\n",
    "        chars += \"!@#$%^&*()_+=-{}[]|\\:;<>,.?/~\"\n",
    "\n",
    "    if len(chars) == 0:\n",
    "        return \"Error: Password cannot be generated with no character set.\"\n",
    "\n",
    "    password = []\n",
    "\n",
    "    seed = int(time.time())\n",
    "    while len(password) < length:\n",
    "        seed = (1103515245 * seed + 12345) & 0x7fffffff\n",
    "        random_index = seed % len(chars)\n",
    "        password.append(chars[random_index])\n",
    "\n",
    "    return ''.join(password)\n",
    "\n",
    "# Input user preferences\n",
    "length = int(input(\"Enter the desired password length: \"))\n",
    "include_uppercase = input(\"Include uppercase letters? (Y/N): \").lower() == \"y\"\n",
    "include_digts = input(\"Include digits? (Y/N): \").lower() == \"Y\"\n",
    "include_specl_chars = input(\"Include special characters? (Y/N): \").lower() == \"y\"\n",
    "\n",
    "# Generate the password\n",
    "paswrd = generate_password(length, include_uppercase, include_digts, include_specl_chars)\n",
    "\n",
    "# Display the generated password\n",
    "print(f\"Random Generated Password: {password}\")\n"
   ]
  },
  {
   "cell_type": "code",
   "execution_count": null,
   "id": "7a675011",
   "metadata": {},
   "outputs": [],
   "source": [
    "# Function to generate a random password without using built-in functions\n",
    "def generate_password(length, include_uppercase, include_digits, include_special_chars):\n",
    "    if length <= 0:\n",
    "        return \"Password length must be greater than zero.\"\n",
    "\n",
    "    \"\"\"# Define character sets\n",
    "    lowercase_chars = \"abcdefghijklmnopqrstuvwxyz\"\n",
    "    uppercase_chars = \"ABCDEFGHIJKLMNOPQRSTUVWXYZ\" if include_uppercase else \"\"\n",
    "    digit_chars = \"0123456789\" if include_digits else \"\"\n",
    "    special_chars = \"!@#$%^&*()_+=-{}[]|\\:;<>,.?/~\" if include_special_chars else \"\"\n",
    "\n",
    "    # Combine the character sets based on user preferences\n",
    "    character_set = lowercase_chars + uppercase_chars + digit_chars + special_chars\n",
    "\n",
    "    if len(character_set) == 0:\n",
    "        return \"Error: Password cannot be generated with no character set.\" \"\"\"\n",
    "\n",
    "    chars = \"abcdefghijklmnopqrstuvwxyz\"\n",
    "    if include_uppercase:\n",
    "        chars += \"ABCDEFGHIJKLMNOPQRSTUVWXYZ\"\n",
    "    if include_digts:\n",
    "        chars += \"0123456789\"\n",
    "    if include_specl_chars:\n",
    "        chars += \"!@#$%^&*()_+=-{}[]|\\:;<>,.?/~\"\n",
    "\n",
    "    if len(chars) == 0:\n",
    "        return \"Error: Password cannot be generated with no character set.\"\n",
    "\n",
    "    \n",
    "    password = []\n",
    "\n",
    "    # Seed for character selection (simple and deterministic)\n",
    "    seed = 42\n",
    "\n",
    "    for _ in range(length):\n",
    "        seed = (1664525 * seed + 1013904223) & 0xFFFFFFFF  # Linear congruential generator\n",
    "        random_index = seed % len(character_set)\n",
    "        password.append(character_set[random_index])\n",
    "\n",
    "    return ''.join(password)\n",
    "\n",
    "# Input user preferences\n",
    "length = int(input(\"Enter the desired password length: \"))\n",
    "include_uppercase = input(\"Include uppercase letters? (yes/no): \").lower() == \"yes\"\n",
    "include_digits = input(\"Include digits? (yes/no): \").lower() == \"yes\"\n",
    "include_special_chars = input(\"Include special characters? (yes/no): \").lower() == \"yes\"\n",
    "\n",
    "# Generate the password\n",
    "password = generate_password(length, include_uppercase, include_digits, include_special_chars)\n",
    "\n",
    "# Display the generated password\n",
    "print(f\"Generated Password: {password}\")\n"
   ]
  },
  {
   "cell_type": "code",
   "execution_count": null,
   "id": "dddfea25",
   "metadata": {},
   "outputs": [],
   "source": [
    "\"\"\"QUESTION NO 24\"\"\"\n",
    "\"\"\"Create a program that implements a simple text-based adventure game with branching scenarios.\"\"\"\n",
    "\n",
    "def solve_linear_equation(a, b):\n",
    "    if a == 0:\n",
    "        if b == 0:\n",
    "            return \"Infinite solutions (Any value of x is a solution)\"\n",
    "        else:\n",
    "            return \"No solution (The equation is inconsistent)\"\n",
    "    else:\n",
    "        x = -b / a\n",
    "        return f\"The solution is x = {x:.2f}\"\n",
    "\n",
    "def main():\n",
    "    print(\"Welcome to the Linear Equation Solver!\")\n",
    "    print(\"The equation is in the form of 'ax + b = 0'.\")\n",
    "    \n",
    "    a = float(input(\"Enter the value of 'a': \"))\n",
    "    b = float(input(\"Enter the value of 'b': \"))\n",
    "    \n",
    "    result = solve_linear_equation(a, b)\n",
    "    print(result)\n",
    "\n",
    "if __name__ == \"__main__\":\n",
    "    main()"
   ]
  },
  {
   "cell_type": "code",
   "execution_count": 9,
   "id": "e8d6c8ab",
   "metadata": {},
   "outputs": [
    {
     "name": "stdout",
     "output_type": "stream",
     "text": [
      "Welcome to the Linear Equation Solver!\n",
      "The equation is in the form of 'ax + b = 0'.\n",
      "Enter the value of 'a': 5\n",
      "Enter the value of 'b': 6\n",
      "The solution is x = -1.20\n"
     ]
    }
   ],
   "source": []
  },
  {
   "cell_type": "code",
   "execution_count": 10,
   "id": "dc76470c",
   "metadata": {},
   "outputs": [
    {
     "name": "stdout",
     "output_type": "stream",
     "text": [
      "Welcome to the Basic Quiz Game!\n",
      "What is the capital of France?\n",
      "1. Paris\n",
      "2. Berlin\n",
      "3. Madrid\n",
      "Enter the number of your choice: 1\n",
      "Correct!\n",
      "\n",
      "What is 2 + 2?\n",
      "1. 3\n",
      "2. 4\n",
      "3. 5\n",
      "Enter the number of your choice: 4\n",
      "Wrong. The correct answer was 2\n",
      "\n",
      "Which planet is known as the 'Red Planet'?\n",
      "1. Venus\n",
      "2. Mars\n",
      "3. Jupiter\n",
      "Enter the number of your choice: 3\n",
      "Wrong. The correct answer was 2\n",
      "\n",
      "Quiz completed! Your score is 1/3.\n"
     ]
    }
   ],
   "source": [
    "class Question:\n",
    "    def __init__(self, prompt, options, correct_option):\n",
    "        self.prompt = prompt\n",
    "        self.options = options\n",
    "        self.correct_option = correct_option\n",
    "\n",
    "    def is_correct(self, choice):\n",
    "        return choice == self.correct_option\n",
    "\n",
    "def run_quiz(questions):\n",
    "    score = 0\n",
    "    for question in questions:\n",
    "        print(question.prompt)\n",
    "        for i, option in enumerate(question.options, 1):\n",
    "            print(f\"{i}. {option}\")\n",
    "\n",
    "        choice = int(input(\"Enter the number of your choice: \"))\n",
    "        if question.is_correct(choice):\n",
    "            print(\"Correct!\\n\")\n",
    "            score += 1\n",
    "        else:\n",
    "            print(f\"Wrong. The correct answer was {question.correct_option}\\n\")\n",
    "\n",
    "    print(f\"Quiz completed! Your score is {score}/{len(questions)}.\")\n",
    "\n",
    "def main():\n",
    "    print(\"Welcome to the Basic Quiz Game!\")\n",
    "\n",
    "    question1 = Question(\"What is the capital of France?\", [\"Paris\", \"Berlin\", \"Madrid\"], 1)\n",
    "    question2 = Question(\"What is 2 + 2?\", [\"3\", \"4\", \"5\"], 2)\n",
    "    question3 = Question(\"Which planet is known as the 'Red Planet'?\", [\"Venus\", \"Mars\", \"Jupiter\"], 2)\n",
    "\n",
    "    questions = [question1, question2, question3]\n",
    "\n",
    "    run_quiz(questions)\n",
    "\n",
    "if __name__ == \"__main__\":\n",
    "    main()\n"
   ]
  },
  {
   "cell_type": "code",
   "execution_count": 17,
   "id": "0a511531",
   "metadata": {},
   "outputs": [
    {
     "name": "stdout",
     "output_type": "stream",
     "text": [
      "Welcome to the Basic Quiz Game!\n",
      "What is the capital of France?\n",
      "1. Paris\n",
      "2. Berlin\n",
      "3. Madrid\n",
      "Enter the number of your choice: 1\n",
      "Correct!\n",
      "\n",
      "What is 2 + 2?\n",
      "1. 3\n",
      "2. 4\n",
      "3. 5\n",
      "Enter the number of your choice: 4\n",
      "Wrong. The correct answer was 4\n",
      "\n",
      "Which planet is known as the 'Red Planet'?\n",
      "1. Venus\n",
      "2. Mars\n",
      "3. Jupiter\n",
      "Enter the number of your choice: 2\n",
      "Correct!\n",
      "\n",
      "The image loses some of its quality by being'?\n",
      "1. Scaled\n",
      "2. Merging\n",
      "3. Masking\n",
      "Enter the number of your choice: 1\n",
      "Correct!\n",
      "\n",
      "Quiz completed! Your score is 3/4.\n"
     ]
    }
   ],
   "source": [
    "def run_quiz(questions):\n",
    "    score = 0\n",
    "    for question in questions:\n",
    "        print(question['prompt'])\n",
    "        for i, option in enumerate(question['options'], 1):\n",
    "            print(f\"{i}. {option}\")\n",
    "\n",
    "        choice = int(input(\"Enter the number of your choice: \"))\n",
    "        if choice == question['correct_option']:\n",
    "            print(\"Correct!\\n\")\n",
    "            score += 1\n",
    "        else:\n",
    "            print(f\"Wrong. The correct answer was {question['options'][question['correct_option'] - 1]}\\n\")\n",
    "\n",
    "    print(f\"Quiz completed! Your score is {score}/{len(questions)}.\")\n",
    "\n",
    "def main():\n",
    "    print(\"Welcome to the Basic Quiz Game!\")\n",
    "\n",
    "    questions = [\n",
    "        {\n",
    "            'prompt': \"What is the capital of France?\",\n",
    "            'options': [\"Paris\", \"Berlin\", \"Madrid\"],\n",
    "            'correct_option': 1\n",
    "        },\n",
    "        {\n",
    "            'prompt': \"What is 2 + 2?\",\n",
    "            'options': [\"3\", \"4\", \"5\"],\n",
    "            'correct_option': 2\n",
    "        },\n",
    "        {\n",
    "            'prompt': \"Which planet is known as the 'Red Planet'?\",\n",
    "            'options': [\"Venus\", \"Mars\", \"Jupiter\"],\n",
    "            'correct_option': 2\n",
    "        },\n",
    "        \n",
    "        {\n",
    "            'prompt' : \"The image loses some of its quality by being'?\",\n",
    "            'options': [\"Scaled\", \"Merging\", \"Masking\"],\n",
    "            'correct_option': 1\n",
    "        }\n",
    "    ]\n",
    "\n",
    "    run_quiz(questions)\n",
    "\n",
    "if __name__ == \"__main__\":\n",
    "    main()\n"
   ]
  },
  {
   "cell_type": "code",
   "execution_count": 19,
   "id": "15e5873c",
   "metadata": {},
   "outputs": [
    {
     "name": "stdout",
     "output_type": "stream",
     "text": [
      "Enter a year: 2000\n",
      "2000 is not a prime year.\n"
     ]
    }
   ],
   "source": [
    "\"\"\"QUESTION NO 27\"\"\"\n",
    "\"\"\"Develop a program that determines whether a given year is a prime number or not.\"\"\"\n",
    "def is_prime(year):\n",
    "    if year <= 1:\n",
    "        return False  # 0 and 1 are not prime numbers\n",
    "    \n",
    "    # Check for divisibility from 2 to the square root of the year\n",
    "    for i in range(2, int(year**0.5) + 1):\n",
    "        if year % i == 0:\n",
    "            return False  # It's divisible by a number other than 1 and itself\n",
    "    \n",
    "    return True\n",
    "\n",
    "# Take input from Input\n",
    "year = int(input(\"Enter a year: \"))\n",
    "\n",
    "# Check if the year is prime and print the result\n",
    "if is_prime(year):\n",
    "    print(f\"{year} is a prime year.\")\n",
    "else:\n",
    "    print(f\"{year} is not a prime year.\")\n"
   ]
  },
  {
   "cell_type": "code",
   "execution_count": 20,
   "id": "c6bbfd00",
   "metadata": {},
   "outputs": [
    {
     "name": "stdout",
     "output_type": "stream",
     "text": [
      "Enter the first number: 14\n",
      "Enter the second number: 45\n",
      "Enter the third number: 67\n",
      "The numbers in ascending order are: 14.0, 45.0, 67.0\n"
     ]
    }
   ],
   "source": [
    "\"\"\"QUESTION NO 28\"\"\"\n",
    "\"\"\"Create a program that sorts three numbers in ascending order using conditional statements.\"\"\"\n",
    "\n",
    "# Input three numbers\n",
    "num1 = float(input(\"Enter the first number: \"))\n",
    "num2 = float(input(\"Enter the second number: \"))\n",
    "num3 = float(input(\"Enter the third number: \"))\n",
    "\n",
    "# Initialize variables to hold the sorted numbers\n",
    "sorted_num1, sorted_num2, sorted_num3 = 0, 0, 0\n",
    "\n",
    "# Compare all the numbers and sort the numbers using conditional statements\n",
    "if num1 <= num2 <= num3:\n",
    "    sorted_num1, sorted_num2, sorted_num3 = num1, num2, num3\n",
    "elif num1 <= num3 <= num2:\n",
    "    sorted_num1, sorted_num2, sorted_num3 = num1, num3, num2\n",
    "elif num2 <= num1 <= num3:\n",
    "    sorted_num1, sorted_num2, sorted_num3 = num2, num1, num3\n",
    "elif num2 <= num3 <= num1:\n",
    "    sorted_num1, sorted_num2, sorted_num3 = num2, num3, num1\n",
    "elif num3 <= num1 <= num2:\n",
    "    sorted_num1, sorted_num2, sorted_num3 = num3, num1, num2\n",
    "else:\n",
    "    sorted_num1, sorted_num2, sorted_num3 = num3, num2, num1\n",
    "\n",
    "# Display the sorted numbers in ascending order\n",
    "print(f\"The numbers in ascending order are: {sorted_num1}, {sorted_num2}, {sorted_num3}\")\n"
   ]
  },
  {
   "cell_type": "code",
   "execution_count": 21,
   "id": "7998971e",
   "metadata": {},
   "outputs": [
    {
     "name": "stdout",
     "output_type": "stream",
     "text": [
      "Enter coefficient 'a': 10\n",
      "Enter coefficient 'b': 5\n",
      "Enter coefficient 'c': 7\n",
      "Enter coefficient 'd': 5\n",
      "Enter coefficient 'e': 9\n",
      "Enter an initial guess for the root: 7\n",
      "The method did not converge to a root within the specified tolerance.\n"
     ]
    }
   ],
   "source": [
    "\"\"\"QUESTION NO 29\"\"\"\n",
    "\"\"\"Build a program that determines the roots of a quartic equation using numerical methods.\"\"\"\n",
    "\n",
    "# Define the coefficients of the quartic equation: ax^4 + bx^3 + cx^2 + dx + e = 0\n",
    "a = float(input(\"Enter coefficient 'a': \"))\n",
    "b = float(input(\"Enter coefficient 'b': \"))\n",
    "c = float(input(\"Enter coefficient 'c': \"))\n",
    "d = float(input(\"Enter coefficient 'd': \"))\n",
    "e = float(input(\"Enter coefficient 'e': \"))\n",
    "\n",
    "# Define the quartic function and its derivative\n",
    "def quartic_function(x):\n",
    "    return a * x**4 + b * x**3 + c * x**2 + d * x + e\n",
    "\n",
    "def derivative_quartic_function(x):\n",
    "    return 4 * a * x**3 + 3 * b * x**2 + 2 * c * x + d\n",
    "\n",
    "# Initialize a guess for the root\n",
    "x0 = float(input(\"Enter an initial guess for the root: \"))\n",
    "\n",
    "# Set tolerance and maximum number of iterations\n",
    "tolerance = 1e-6\n",
    "max_iterations = 1000\n",
    "\n",
    "# Newton-Raphson method to approximate the root\n",
    "for i in range(max_iterations):\n",
    "    f_x0 = quartic_function(x0)\n",
    "    f_prime_x0 = derivative_quartic_function(x0)\n",
    "    \n",
    "    if abs(f_x0) < tolerance:\n",
    "        break\n",
    "    \n",
    "    x0 = x0 - f_x0 / f_prime_x0\n",
    "\n",
    "# Check if the method converged to a root\n",
    "if abs(f_x0) < tolerance:\n",
    "    print(f\"Approximate root: {x0:.6f}\")\n",
    "else:\n",
    "    print(\"The method did not converge to a root within the specified tolerance.\")\n"
   ]
  },
  {
   "cell_type": "code",
   "execution_count": 22,
   "id": "e869c9b5",
   "metadata": {},
   "outputs": [
    {
     "name": "stdout",
     "output_type": "stream",
     "text": [
      "Enter coefficient 'a': 10\n",
      "Enter coefficient 'b': 5\n",
      "Enter coefficient 'c': 7\n",
      "Enter coefficient 'd': 5\n",
      "Enter coefficient 'e': 9\n",
      "The roots of the quartic equation are:\n",
      "Root 1: -0.362027\n",
      "Root 2: -0.362027\n",
      "Root 3: -0.362027\n",
      "Root 4: -0.362027\n"
     ]
    }
   ],
   "source": [
    "import numpy as np\n",
    "from scipy.optimize import root\n",
    "\n",
    "# Define the coefficients of the quartic equation: ax^4 + bx^3 + cx^2 + dx + e = 0\n",
    "a = float(input(\"Enter coefficient 'a': \"))\n",
    "b = float(input(\"Enter coefficient 'b': \"))\n",
    "c = float(input(\"Enter coefficient 'c': \"))\n",
    "d = float(input(\"Enter coefficient 'd': \"))\n",
    "e = float(input(\"Enter coefficient 'e': \"))\n",
    "\n",
    "# Define the quartic function\n",
    "def quartic_function(x):\n",
    "    return a * x**4 + b * x**3 + c * x**2 + d * x + e\n",
    "\n",
    "# Use the root function from SciPy to find the roots\n",
    "result = root(quartic_function, [0, 0, 0, 0])  # Initial guesses for roots\n",
    "\n",
    "# Extract the roots from the result\n",
    "roots = result.x\n",
    "\n",
    "# Print the roots\n",
    "print(\"The roots of the quartic equation are:\")\n",
    "for i, root in enumerate(roots):\n",
    "    print(f\"Root {i + 1}: {root:.6f}\")\n"
   ]
  },
  {
   "cell_type": "code",
   "execution_count": 23,
   "id": "f6419d11",
   "metadata": {},
   "outputs": [
    {
     "name": "stdout",
     "output_type": "stream",
     "text": [
      "Enter your weight in kilograms: 65\n",
      "Enter your height in meters: 3\n",
      "Your BMI is 7.22\n",
      "You are underweight. It's important to maintain a balanced diet and consider consulting a healthcare professional.\n"
     ]
    }
   ],
   "source": [
    "\"\"\"QUESTION NO 30\"\"\"\n",
    "\"\"\"Write a program that calculates the BMI (Body Mass Index) and provides health recommendations based\n",
    "on the user's input.\"\"\"\n",
    "\n",
    "# Function to calculate BMI\n",
    "def calculate_bmi(weight_kg, height_m):\n",
    "    return weight_kg / (height_m ** 2)\n",
    "\n",
    "# Function to provide health recommendations based on BMI\n",
    "def provide_recommendations(bmi):\n",
    "    if bmi < 18.5:\n",
    "        return \"You are underweight. It's important to maintain a balanced diet and consider consulting a healthcare professional.\"\n",
    "    elif 18.5 <= bmi < 24.9:\n",
    "        return \"Your BMI is in the normal range. Keep up the good work with a healthy lifestyle!\"\n",
    "    elif 24.9 <= bmi < 29.9:\n",
    "        return \"You are overweight. Consider adopting a healthier diet and exercise routine.\"\n",
    "    else:\n",
    "        return \"You are obese. It's crucial to consult a healthcare professional for guidance on weight management.\"\n",
    "\n",
    "# Input from the user\n",
    "weight = float(input(\"Enter your weight in kilograms: \"))\n",
    "height = float(input(\"Enter your height in meters: \"))\n",
    "\n",
    "# Calculate BMI\n",
    "bmi = calculate_bmi(weight, height)\n",
    "\n",
    "# Display BMI and health recommendations\n",
    "print(f\"Your BMI is {bmi:.2f}\")\n",
    "recommendations = provide_recommendations(bmi)\n",
    "print(recommendations)"
   ]
  },
  {
   "cell_type": "markdown",
   "id": "23e93bbf",
   "metadata": {},
   "source": [
    "CHALLENGE LEVEL"
   ]
  },
  {
   "cell_type": "code",
   "execution_count": 1,
   "id": "d965b767",
   "metadata": {},
   "outputs": [
    {
     "name": "stdout",
     "output_type": "stream",
     "text": [
      "Enter a password: aaqib\n",
      "Password is invalid.\n"
     ]
    }
   ],
   "source": [
    "\"\"\"QUESTION NO 31\"\"\"\n",
    "\"\"\"Create a program that validates a password based on complexity rules (length, characters, etc.).\"\"\"\n",
    "\n",
    "import re\n",
    "\n",
    "def is_valid_password(password):\n",
    "    if len(password) < 8 or len(password) > 20:\n",
    "        return False\n",
    "\n",
    "    if not any(char.isupper() for char in password):      # if there is no uppercase letter in the string return False\n",
    "        return False\n",
    "\n",
    "    if not any(char.islower() for char in password):\n",
    "        return False\n",
    "\n",
    "    if not any(char.isdigit() for char in password):\n",
    "        return False\n",
    "\n",
    "    # Check if the password contains at least one special character (e.g., !, @, #, $, etc.)\n",
    "    if not re.search(r'[!@#$%^&*()_+{}\\[\\]:;<>,.?~\\\\-]', password):\n",
    "        return False\n",
    "\n",
    "    # If all checks pass, the password is valid\n",
    "    return True\n",
    "\n",
    "password = input(\"Enter a password: \")\n",
    "if is_valid_password(password):\n",
    "    print(\"Password is valid.\")\n",
    "else:\n",
    "    print(\"Password is invalid.\")"
   ]
  },
  {
   "cell_type": "code",
   "execution_count": 2,
   "id": "c65b7a94",
   "metadata": {},
   "outputs": [
    {
     "name": "stdout",
     "output_type": "stream",
     "text": [
      "Enter the number of rows: 3\n",
      "Enter the number of columns: 3\n",
      "Enter the first matrix:\n",
      "Enter element at position (1,1): 2\n",
      "Enter element at position (1,2): 3\n",
      "Enter element at position (1,3): 4\n",
      "Enter element at position (2,1): 1\n",
      "Enter element at position (2,2): 3\n",
      "Enter element at position (2,3): 4\n",
      "Enter element at position (3,1): 1\n",
      "Enter element at position (3,2): 2\n",
      "Enter element at position (3,3): 4\n",
      "Enter the second matrix:\n",
      "Enter element at position (1,1): 9\n",
      "Enter element at position (1,2): 5\n",
      "Enter element at position (1,3): 4\n",
      "Enter element at position (2,1): 3\n",
      "Enter element at position (2,2): 2\n",
      "Enter element at position (2,3): 1\n",
      "Enter element at position (3,1): 4\n",
      "Enter element at position (3,2): 5\n",
      "Enter element at position (3,3): 6\n",
      "Matrix 1:\n",
      "2.0 3.0 4.0\n",
      "1.0 3.0 4.0\n",
      "1.0 2.0 4.0\n",
      "Matrix 2:\n",
      "9.0 5.0 4.0\n",
      "3.0 2.0 1.0\n",
      "4.0 5.0 6.0\n",
      "\n",
      "Choose an operation:\n",
      "1. Matrix Addition\n",
      "2. Matrix Subtraction\n",
      "3. Quit\n",
      "Enter your choice (1/2/3): 1\n",
      "Result of Matrix Addition:\n",
      "11.0 8.0 8.0\n",
      "4.0 5.0 5.0\n",
      "5.0 7.0 10.0\n",
      "\n",
      "Choose an operation:\n",
      "1. Matrix Addition\n",
      "2. Matrix Subtraction\n",
      "3. Quit\n",
      "Enter your choice (1/2/3): 2\n",
      "Result of Matrix Subtraction:\n",
      "-7.0 -2.0 0.0\n",
      "-2.0 1.0 3.0\n",
      "-3.0 -3.0 -2.0\n",
      "\n",
      "Choose an operation:\n",
      "1. Matrix Addition\n",
      "2. Matrix Subtraction\n",
      "3. Quit\n",
      "Enter your choice (1/2/3): 3\n"
     ]
    }
   ],
   "source": [
    "\"\"\"QUESTION NO 32\"\"\"\n",
    "\"\"\" Develop a program that performs matrix addition and subtraction based on user input\"\"\"\n",
    "\n",
    "def matrix_addition(matrix1, matrix2):\n",
    "    result = [[matrix1[i][j] + matrix2[i][j] for j in range(len(matrix1[0]))] for i in range(len(matrix1))]\n",
    "    return result\n",
    "\n",
    "def matrix_subtraction(matrix1, matrix2):\n",
    "    result = [[matrix1[i][j] - matrix2[i][j] for j in range(len(matrix1[0]))] for i in range(len(matrix1))]\n",
    "    return result\n",
    "\n",
    "def input_matrix(rows, cols):\n",
    "    matrix = []\n",
    "    for i in range(rows):\n",
    "        row = []\n",
    "        for j in range(cols):\n",
    "            element = float(input(f\"Enter element at position ({i+1},{j+1}): \"))\n",
    "            row.append(element)\n",
    "        matrix.append(row)\n",
    "    return matrix\n",
    "\n",
    "def print_matrix(matrix):\n",
    "    for row in matrix:\n",
    "        print(\" \".join(map(str, row)))\n",
    "\n",
    "rows = int(input(\"Enter the number of rows: \"))\n",
    "cols = int(input(\"Enter the number of columns: \"))\n",
    "\n",
    "print(\"Enter the first matrix:\")\n",
    "matrix1 = input_matrix(rows, cols)\n",
    "\n",
    "print(\"Enter the second matrix:\")\n",
    "matrix2 = input_matrix(rows, cols)\n",
    "\n",
    "print(\"Matrix 1:\")\n",
    "print_matrix(matrix1)\n",
    "\n",
    "print(\"Matrix 2:\")\n",
    "print_matrix(matrix2)\n",
    "\n",
    "while True:\n",
    "    print(\"\\nChoose an operation:\")\n",
    "    print(\"1. Matrix Addition\")\n",
    "    print(\"2. Matrix Subtraction\")\n",
    "    print(\"3. Quit\")\n",
    "\n",
    "    choice = int(input(\"Enter your choice (1/2/3): \"))\n",
    "\n",
    "    if choice == 1:\n",
    "        result = matrix_addition(matrix1, matrix2)\n",
    "        print(\"Result of Matrix Addition:\")\n",
    "        print_matrix(result)\n",
    "    elif choice == 2:\n",
    "        result = matrix_subtraction(matrix1, matrix2)\n",
    "        print(\"Result of Matrix Subtraction:\")\n",
    "        print_matrix(result)\n",
    "    elif choice == 3:\n",
    "        break\n",
    "    else:\n",
    "        print(\"Invalid choice. Please choose 1, 2, or 3.\")"
   ]
  },
  {
   "cell_type": "code",
   "execution_count": 3,
   "id": "c919d106",
   "metadata": {},
   "outputs": [
    {
     "name": "stdout",
     "output_type": "stream",
     "text": [
      "Enter the first number: 6\n",
      "Enter the second number: 9\n",
      "The GCD of 6 and 9 is 3\n"
     ]
    }
   ],
   "source": [
    "\"\"\"QUESTION NO 33\"\"\"\n",
    "\"\"\" Write a program that calculates the greatest common divisor (GCD) of two numbers using the Euclidean\n",
    "algorithm.\"\"\"\n",
    "\n",
    "def gcd(a, b):\n",
    "    while b:\n",
    "        a, b = b, a % b\n",
    "    return a\n",
    "\n",
    "num1 = int(input(\"Enter the first number: \"))\n",
    "num2 = int(input(\"Enter the second number: \"))\n",
    "\n",
    "result = gcd(num1, num2)\n",
    "print(f\"The GCD of {num1} and {num2} is {result}\")"
   ]
  },
  {
   "cell_type": "code",
   "execution_count": 1,
   "id": "ef996aa3",
   "metadata": {},
   "outputs": [
    {
     "name": "stdout",
     "output_type": "stream",
     "text": [
      "Enter the number of rows for the first matrix: 2\n",
      "Enter the number of columns for the first matrix: 2\n",
      "Enter the number of rows for the second matrix: 2\n",
      "Enter the number of columns for the second matrix: 2\n",
      "Enter the first matrix:\n",
      "Enter element at position (1,1): 2\n",
      "Enter element at position (1,2): 3\n",
      "Enter element at position (2,1): 4\n",
      "Enter element at position (2,2): 5\n",
      "Enter the second matrix:\n",
      "Enter element at position (1,1): 2\n",
      "Enter element at position (1,2): 7\n",
      "Enter element at position (2,1): 8\n",
      "Enter element at position (2,2): 4\n",
      "Matrix 1:\n",
      "2.0 3.0\n",
      "4.0 5.0\n",
      "Matrix 2:\n",
      "2.0 7.0\n",
      "8.0 4.0\n",
      "Result of Matrix Multiplication:\n",
      "28.0 26.0\n",
      "48.0 48.0\n"
     ]
    }
   ],
   "source": [
    "\"\"\"QUESTION NO 34\"\"\"\n",
    "\"\"\" Build a program that performs matrix multiplication using nested loops and conditional statements\"\"\"\n",
    "\n",
    "def matrix_multiply(matrix1, matrix2):\n",
    "    if len(matrix1[0]) != len(matrix2):\n",
    "        raise ValueError(\"Number of columns in the first matrix must be equal to the number of rows in the second matrix.\")\n",
    "\n",
    "    result = []\n",
    "    for i in range(len(matrix1)):\n",
    "        row = []\n",
    "        for j in range(len(matrix2[0])):\n",
    "            element = 0\n",
    "            for k in range(len(matrix2)):\n",
    "                element += matrix1[i][k] * matrix2[k][j]\n",
    "            row.append(element)\n",
    "        result.append(row)\n",
    "\n",
    "    return result\n",
    "\n",
    "def input_matrix(rows, cols):\n",
    "    matrix = []\n",
    "    for i in range(rows):\n",
    "        row = []\n",
    "        for j in range(cols):\n",
    "            element = float(input(f\"Enter element at position ({i+1},{j+1}): \"))\n",
    "            row.append(element)\n",
    "        matrix.append(row)\n",
    "    return matrix\n",
    "\n",
    "def print_matrix(matrix):\n",
    "    for row in matrix:\n",
    "        print(\" \".join(map(str, row)))\n",
    "\n",
    "rows1 = int(input(\"Enter the number of rows for the first matrix: \"))\n",
    "cols1 = int(input(\"Enter the number of columns for the first matrix: \"))\n",
    "\n",
    "rows2 = int(input(\"Enter the number of rows for the second matrix: \"))\n",
    "cols2 = int(input(\"Enter the number of columns for the second matrix: \"))\n",
    "\n",
    "if cols1 != rows2:\n",
    "    print(\"Matrix multiplication is not possible. The number of columns in the first matrix must be equal to the number of rows in the second matrix.\")\n",
    "else:\n",
    "    print(\"Enter the first matrix:\")\n",
    "    matrix1 = input_matrix(rows1, cols1)\n",
    "\n",
    "    print(\"Enter the second matrix:\")\n",
    "    matrix2 = input_matrix(rows2, cols2)\n",
    "\n",
    "    print(\"Matrix 1:\")\n",
    "    print_matrix(matrix1)\n",
    "\n",
    "    print(\"Matrix 2:\")\n",
    "    print_matrix(matrix2)\n",
    "\n",
    "    result = matrix_multiply(matrix1, matrix2)\n",
    "    print(\"Result of Matrix Multiplication:\")\n",
    "    print_matrix(result)"
   ]
  },
  {
   "cell_type": "code",
   "execution_count": 8,
   "id": "528185f2",
   "metadata": {},
   "outputs": [
    {
     "name": "stdout",
     "output_type": "stream",
     "text": [
      "Welcome to Tic-Tac-Toe! You are 'X' and the computer is 'O'.\n",
      "  |   |  \n",
      "-----\n",
      "  |   |  \n",
      "-----\n",
      "  |   |  \n",
      "-----\n",
      "Enter the row (0, 1, or 2): 1\n",
      "Enter the column (0, 1, or 2): 2\n",
      "  |   |  \n",
      "-----\n",
      "  |   | X\n",
      "-----\n",
      "  |   |  \n",
      "-----\n",
      "Computer's turn:\n",
      "Computer chooses row 1 and column 1\n",
      "  |   |  \n",
      "-----\n",
      "  | O | X\n",
      "-----\n",
      "  |   |  \n",
      "-----\n",
      "Enter the row (0, 1, or 2): 2\n",
      "Enter the column (0, 1, or 2): 1\n",
      "  |   |  \n",
      "-----\n",
      "  | O | X\n",
      "-----\n",
      "  | X |  \n",
      "-----\n",
      "Computer's turn:\n",
      "Computer chooses row 0 and column 0\n",
      "O |   |  \n",
      "-----\n",
      "  | O | X\n",
      "-----\n",
      "  | X |  \n",
      "-----\n",
      "Enter the row (0, 1, or 2): 0\n",
      "Enter the column (0, 1, or 2): 1\n",
      "O | X |  \n",
      "-----\n",
      "  | O | X\n",
      "-----\n",
      "  | X |  \n",
      "-----\n",
      "Computer's turn:\n",
      "Computer chooses row 2 and column 2\n",
      "O | X |  \n",
      "-----\n",
      "  | O | X\n",
      "-----\n",
      "  | X | O\n",
      "-----\n",
      "You win, 'O'!\n"
     ]
    }
   ],
   "source": [
    "import random\n",
    "\n",
    "def print_board(board):\n",
    "    for row in board:\n",
    "        print(\" | \".join(row))\n",
    "        print(\"-\" * 5)\n",
    "\n",
    "def check_winner(board, player):\n",
    "    # Check rows, columns, and diagonals for a win\n",
    "    for i in range(3):\n",
    "        if all(board[i][j] == player for j in range(3)) or \\\n",
    "           all(board[j][i] == player for j in range(3)):\n",
    "            return True\n",
    "    if all(board[i][i] == player for i in range(3)) or \\\n",
    "       all(board[i][2 - i] == player for i in range(3)):\n",
    "        return True\n",
    "    return False\n",
    "\n",
    "def is_board_full(board):\n",
    "    # Check if the board is full\n",
    "    return all(board[i][j] != ' ' for i in range(3) for j in range(3))\n",
    "\n",
    "def get_empty_cells(board):\n",
    "    # Get a list of empty cells\n",
    "    return [(i, j) for i in range(3) for j in range(3) if board[i][j] == ' ']\n",
    "\n",
    "def player_move(board):\n",
    "    while True:\n",
    "        try:\n",
    "            row = int(input(\"Enter the row (0, 1, or 2): \"))\n",
    "            col = int(input(\"Enter the column (0, 1, or 2): \"))\n",
    "            if board[row][col] == ' ':\n",
    "                return row, col\n",
    "            else:\n",
    "                print(\"Cell already occupied. Try again.\")\n",
    "        except (ValueError, IndexError):\n",
    "            print(\"Invalid input. Please enter a valid row and column.\")\n",
    "\n",
    "def computer_move(board, computer_player, human_player):\n",
    "    # Check for a winning move\n",
    "    for i in range(3):\n",
    "        for j in range(3):\n",
    "            if board[i][j] == ' ':\n",
    "                board[i][j] = computer_player\n",
    "                if check_winner(board, computer_player):\n",
    "                    return i, j\n",
    "                board[i][j] = ' '\n",
    "\n",
    "    # Check for a blocking move\n",
    "    for i in range(3):\n",
    "        for j in range(3):\n",
    "            if board[i][j] == ' ':\n",
    "                board[i][j] = human_player\n",
    "                if check_winner(board, human_player):\n",
    "                    return i, j\n",
    "                board[i][j] = ' '\n",
    "\n",
    "    # Make a random move\n",
    "    empty_cells = get_empty_cells(board)\n",
    "    return random.choice(empty_cells)\n",
    "\n",
    "board = [[' ' for _ in range(3)] for _ in range(3)]\n",
    "players = ['X', 'O']\n",
    "human_player = random.choice(players)\n",
    "computer_player = 'X' if human_player == 'O' else 'O'\n",
    "\n",
    "print(f\"Welcome to Tic-Tac-Toe! You are '{human_player}' and the computer is '{computer_player}'.\")\n",
    "print_board(board)\n",
    "\n",
    "while True:\n",
    "    if human_player == 'X':\n",
    "        row, col = player_move(board)\n",
    "    else:\n",
    "        print(\"Computer's turn:\")\n",
    "        row, col = computer_move(board, computer_player, human_player)\n",
    "        print(f\"Computer chooses row {row} and column {col}\")\n",
    "\n",
    "    board[row][col] = human_player\n",
    "    print_board(board)\n",
    "\n",
    "    if check_winner(board, human_player):\n",
    "        print(f\"You win, '{human_player}'!\")\n",
    "        break\n",
    "    elif is_board_full(board):\n",
    "        print(\"It's a tie!\")\n",
    "        break\n",
    "\n",
    "    human_player, computer_player = computer_player, human_player  # Switch players\n"
   ]
  },
  {
   "cell_type": "code",
   "execution_count": 1,
   "id": "cbed0d05",
   "metadata": {},
   "outputs": [
    {
     "name": "stdout",
     "output_type": "stream",
     "text": [
      "Enter the number of terms for the Fibonacci sequence: 8\n",
      "Fibonacci Sequence:\n",
      "[0, 1, 1, 2, 3, 5, 8, 13]\n"
     ]
    }
   ],
   "source": [
    "\"\"\"QUESTION NO 36\"\"\"\n",
    "\"\"\" Write a program that generates Fibonacci numbers up to a specified term using iterative methods.\"\"\"\n",
    "\n",
    "def generate_fibonacci(n):\n",
    "    fibonacci_sequence = []\n",
    "\n",
    "    if n <= 0:\n",
    "        return []\n",
    "\n",
    "    a, b = 0, 1\n",
    "    fibonacci_sequence.append(a)\n",
    "    \n",
    "    while n > 1:\n",
    "        a, b = b, a + b\n",
    "        fibonacci_sequence.append(a)\n",
    "        n -= 1\n",
    "\n",
    "    return fibonacci_sequence\n",
    "\n",
    "term = int(input(\"Enter the number of terms for the Fibonacci sequence: \"))\n",
    "\n",
    "fibonacci_sequence = generate_fibonacci(term)\n",
    "print(\"Fibonacci Sequence:\")\n",
    "print(fibonacci_sequence)"
   ]
  },
  {
   "cell_type": "code",
   "execution_count": 3,
   "id": "1d05ccd6",
   "metadata": {},
   "outputs": [
    {
     "name": "stdout",
     "output_type": "stream",
     "text": [
      "Enter the value of n to find the nth Fibonacci term: 7\n",
      "The 7th Fibonacci term is: 13\n"
     ]
    }
   ],
   "source": [
    "\"\"\"QUESTION NO 37\"\"\"\n",
    "\"\"\" Develop a program that calculates the nth term of the Fibonacci sequence using memoization.\"\"\"\n",
    "\n",
    "# Dictionary to store previously computed Fibonacci values\n",
    "fibonacci_cache = {}\n",
    "\n",
    "def fibonacci(n):\n",
    "    if n in fibonacci_cache:\n",
    "        return fibonacci_cache[n]\n",
    "\n",
    "    if n <= 1:\n",
    "        result = n\n",
    "    else:\n",
    "        result = fibonacci(n - 1) + fibonacci(n - 2)\n",
    "\n",
    "    # Store the result in the cache for future use\n",
    "    fibonacci_cache[n] = result\n",
    "\n",
    "    return result\n",
    "\n",
    "n = int(input(\"Enter the value of n to find the nth Fibonacci term: \"))\n",
    "\n",
    "if n < 0:\n",
    "    print(\"Please enter a non-negative integer.\")\n",
    "else:\n",
    "    nth_term = fibonacci(n)\n",
    "    print(f\"The {n}th Fibonacci term is: {nth_term}\")"
   ]
  },
  {
   "cell_type": "code",
   "execution_count": 4,
   "id": "7c6c7d52",
   "metadata": {},
   "outputs": [
    {
     "name": "stdout",
     "output_type": "stream",
     "text": [
      "Enter the year: 2001\n",
      "Enter the month (1-12): 5\n",
      "\n",
      "Calendar:\n",
      "      May 2001\n",
      "Mo Tu We Th Fr Sa Su\n",
      "    1  2  3  4  5  6\n",
      " 7  8  9 10 11 12 13\n",
      "14 15 16 17 18 19 20\n",
      "21 22 23 24 25 26 27\n",
      "28 29 30 31\n",
      "\n"
     ]
    }
   ],
   "source": [
    "\"\"\"QUESTION NO 38\"\"\"\n",
    "\"\"\" Create a program that generates a calendar for a given month and year using conditional statements\"\"\"\n",
    "\n",
    "import calendar\n",
    "\n",
    "# Get user input for the month and year\n",
    "year = int(input(\"Enter the year: \"))\n",
    "month = int(input(\"Enter the month (1-12): \"))\n",
    "\n",
    "# Validate user input\n",
    "if month < 1 or month > 12:\n",
    "    print(\"Invalid month. Please enter a number between 1 and 12.\")\n",
    "else:\n",
    "    # Generate the calendar\n",
    "    cal = calendar.month(year, month)\n",
    "    print(\"\\nCalendar:\")\n",
    "    print(cal)"
   ]
  },
  {
   "cell_type": "code",
   "execution_count": 5,
   "id": "84fbe005",
   "metadata": {},
   "outputs": [
    {
     "name": "stdout",
     "output_type": "stream",
     "text": [
      "\n",
      "Player's Hand: ['7 of Diamonds', 'J of Spades']\n",
      "Player's Hand Value: 17\n",
      "\n",
      "Do you want to hit or stand? (h/s): s\n",
      "\n",
      "Computer's Hand: ['A of Spades', '5 of Diamonds', '9 of Spades', '3 of Diamonds']\n",
      "Computer's Hand Value: 18\n",
      "Computer wins.\n",
      "\n",
      "Do you want to play again? (y/n): y\n",
      "\n",
      "Player's Hand: ['K of Clubs', '2 of Spades']\n",
      "Player's Hand Value: 12\n",
      "\n",
      "Do you want to hit or stand? (h/s): h\n",
      "\n",
      "Player's Hand: ['K of Clubs', '2 of Spades', '2 of Hearts']\n",
      "Player's Hand Value: 14\n",
      "\n",
      "Do you want to hit or stand? (h/s): h\n",
      "\n",
      "Player's Hand: ['K of Clubs', '2 of Spades', '2 of Hearts', '6 of Spades']\n",
      "Player's Hand Value: 20\n",
      "\n",
      "Do you want to hit or stand? (h/s): h\n",
      "\n",
      "Player's Hand: ['K of Clubs', '2 of Spades', '2 of Hearts', '6 of Spades', '2 of Diamonds']\n",
      "Player's Hand Value: 22\n",
      "Bust! You lose.\n"
     ]
    }
   ],
   "source": [
    "\"\"\"QUESTION NO 39\"\"\"\n",
    "\"\"\"Build a program that simulates a basic text-based blackjack game against the computer.\"\"\"\n",
    "import random\n",
    "\n",
    "def calculate_hand_value(hand):\n",
    "    values = {'2': 2, '3': 3, '4': 4, '5': 5, '6': 6, '7': 7, '8': 8, '9': 9, '10': 10, 'J': 10, 'Q': 10, 'K': 10, 'A': 11}\n",
    "    value = 0\n",
    "    num_aces = 0\n",
    "\n",
    "    for card in hand:\n",
    "        card_rank = card.split()[0]  # Extract the card rank (e.g., '5' from '5 of Diamonds')\n",
    "        value += values.get(card_rank, 0)\n",
    "\n",
    "        if card_rank == 'A':\n",
    "            num_aces += 1\n",
    "\n",
    "    while num_aces > 0 and value > 21:\n",
    "        value -= 10\n",
    "        num_aces -= 1\n",
    "\n",
    "    return value\n",
    "\n",
    "def deal_card(deck):\n",
    "    return deck.pop()\n",
    "\n",
    "def initialize_deck():\n",
    "    suits = [\"Hearts\", \"Diamonds\", \"Clubs\", \"Spades\"]\n",
    "    ranks = [\"2\", \"3\", \"4\", \"5\", \"6\", \"7\", \"8\", \"9\", \"10\", \"J\", \"Q\", \"K\", \"A\"]\n",
    "    return [rank + \" of \" + suit for suit in suits for rank in ranks]\n",
    "\n",
    "def play_blackjack():\n",
    "    deck = initialize_deck()\n",
    "    random.shuffle(deck)\n",
    "\n",
    "    player_hand = [deal_card(deck), deal_card(deck)]\n",
    "    computer_hand = [deal_card(deck), deal_card(deck)]\n",
    "\n",
    "    while True:\n",
    "        print(\"\\nPlayer's Hand:\", player_hand)\n",
    "        print(\"Player's Hand Value:\", calculate_hand_value(player_hand))\n",
    "\n",
    "        if calculate_hand_value(player_hand) > 21:\n",
    "            print(\"Bust! You lose.\")\n",
    "            break\n",
    "\n",
    "        action = input(\"\\nDo you want to hit or stand? (h/s): \").lower()\n",
    "\n",
    "        if action == \"h\":\n",
    "            player_hand.append(deal_card(deck))\n",
    "        elif action == \"s\":\n",
    "            while calculate_hand_value(computer_hand) < 17:\n",
    "                computer_hand.append(deal_card(deck))\n",
    "            print(\"\\nComputer's Hand:\", computer_hand)\n",
    "            print(\"Computer's Hand Value:\", calculate_hand_value(computer_hand))\n",
    "\n",
    "            if calculate_hand_value(computer_hand) > 21:\n",
    "                print(\"Computer busts! You win.\")\n",
    "            elif calculate_hand_value(player_hand) > calculate_hand_value(computer_hand):\n",
    "                print(\"You win!\")\n",
    "            elif calculate_hand_value(player_hand) < calculate_hand_value(computer_hand):\n",
    "                print(\"Computer wins.\")\n",
    "            else:\n",
    "                print(\"It's a tie!\")\n",
    "\n",
    "            play_again = input(\"\\nDo you want to play again? (y/n): \").lower()\n",
    "            if play_again != \"y\":\n",
    "                print(\"Thanks for playing Blackjack!\")\n",
    "                return\n",
    "            else:\n",
    "                deck = initialize_deck()\n",
    "                random.shuffle(deck)\n",
    "                player_hand = [deal_card(deck), deal_card(deck)]\n",
    "                computer_hand = [deal_card(deck), deal_card(deck)]\n",
    "        else:\n",
    "            print(\"Invalid input. Please enter 'h' or 's'.\")\n",
    "\n",
    "play_blackjack()"
   ]
  },
  {
   "cell_type": "code",
   "execution_count": 6,
   "id": "47dbcc23",
   "metadata": {},
   "outputs": [
    {
     "name": "stdout",
     "output_type": "stream",
     "text": [
      "Enter a positive integer: 9\n",
      "The prime factors of 9 are: 3, 3\n"
     ]
    }
   ],
   "source": [
    "\"\"\"QUESTION NO 40\"\"\"\n",
    "\"\"\"Write a program that generates the prime factors of a given number using trial division.\"\"\"\n",
    "\n",
    "def prime_factors(n):\n",
    "    factors = []\n",
    "    divisor = 2\n",
    "\n",
    "    while n > 1:\n",
    "        while n % divisor == 0:\n",
    "            factors.append(divisor)\n",
    "            n //= divisor\n",
    "        divisor += 1\n",
    "\n",
    "    return factors\n",
    "\n",
    "try:\n",
    "    num = int(input(\"Enter a positive integer: \"))\n",
    "    if num <= 0:\n",
    "        print(\"Please enter a positive integer.\")\n",
    "    else:\n",
    "        factors = prime_factors(num)\n",
    "        if len(factors) == 0:\n",
    "            print(f\"{num} has no prime factors (it may be prime itself).\")\n",
    "        else:\n",
    "            print(f\"The prime factors of {num} are: {', '.join(map(str, factors))}\")\n",
    "except ValueError:\n",
    "    print(\"Invalid input. Please enter a valid positive integer.\")"
   ]
  },
  {
   "cell_type": "code",
   "execution_count": null,
   "id": "f84feee2",
   "metadata": {},
   "outputs": [],
   "source": []
  },
  {
   "cell_type": "code",
   "execution_count": null,
   "id": "401420f3",
   "metadata": {},
   "outputs": [],
   "source": []
  }
 ],
 "metadata": {
  "kernelspec": {
   "display_name": "Python 3 (ipykernel)",
   "language": "python",
   "name": "python3"
  },
  "language_info": {
   "codemirror_mode": {
    "name": "ipython",
    "version": 3
   },
   "file_extension": ".py",
   "mimetype": "text/x-python",
   "name": "python",
   "nbconvert_exporter": "python",
   "pygments_lexer": "ipython3",
   "version": "3.10.9"
  }
 },
 "nbformat": 4,
 "nbformat_minor": 5
}
